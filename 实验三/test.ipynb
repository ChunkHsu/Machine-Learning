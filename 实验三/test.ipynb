{
 "cells": [
  {
   "cell_type": "code",
   "execution_count": 21,
   "metadata": {},
   "outputs": [],
   "source": [
    "import numpy as np\n",
    "from typing import *\n",
    "\n",
    "class NODE:\n",
    "    def __init__(self, point: List, level: int, left: None = None, right: None=None):\n",
    "        self.point = point\n",
    "        self.level = level\n",
    "        self.left = left\n",
    "        self.right = right\n",
    "\n",
    "def level_travel(root: NODE) -> List:\n",
    "    nn = root\n",
    "    if nn is None:\n",
    "        return None\n",
    "    ans = []\n",
    "    res = [nn]\n",
    "    while len(res):\n",
    "        tmp = []\n",
    "        for node in res:\n",
    "            tmp.append(node)\n",
    "        ans.append([i.point for i in tmp])\n",
    "        res.clear()\n",
    "        for node in tmp:\n",
    "            if node.left:\n",
    "                res.append(node.left)\n",
    "            if node.right:\n",
    "                res.append(node.right)\n",
    "    return ans\n",
    "    "
   ]
  },
  {
   "cell_type": "code",
   "execution_count": null,
   "metadata": {},
   "outputs": [],
   "source": [
    "X=np.array([1,3])\n",
    "root=NODE(X,0)\n",
    "root.left=NODE(X+np.array([1,1]),1)\n",
    "root.right=NODE(X,1)\n",
    "root.left.right=NODE(X+np.array([1,1]),1)\n",
    "root.right.left=NODE(X+np.array([1,1]),1)\n",
    "\n",
    "ans=level_travel(root)\n",
    "for i in ans:\n",
    "    print(i)\n"
   ]
  },
  {
   "cell_type": "code",
   "execution_count": null,
   "metadata": {},
   "outputs": [],
   "source": [
    "root=NODE(1,0)\n",
    "root.left=NODE(2,1)\n",
    "root.right=NODE(3,1)\n",
    "ans=level_travel(root)\n",
    "for i in ans:\n",
    "    print(i)\n"
   ]
  },
  {
   "cell_type": "code",
   "execution_count": 22,
   "metadata": {},
   "outputs": [
    {
     "name": "stdout",
     "output_type": "stream",
     "text": [
      "<__main__.NODE object at 0x0000023F20D1A200>\n",
      "[[6, 4]]\n",
      "[[4, 5], [9, 6]]\n",
      "[[2, 3], [5, 7], [7, 2]]\n"
     ]
    }
   ],
   "source": [
    "from typing import *\n",
    "\n",
    "def get_kd_tree(X: List, level: int) -> NODE:\n",
    "    \"\"\" \n",
    "    X : m 维特征向量 \n",
    "    level : 以第 level 维进行超平面划分\n",
    "    \"\"\"\n",
    "    n = len(X) # 向量数\n",
    "    if n==0:\n",
    "        return None\n",
    "    \n",
    "    dim = len(X[0]) # 特征维数\n",
    "    level = level%dim # 第level维进行划分\n",
    "    X = sorted(X, key=lambda x: x[level]) # 按照第level维进行排序\n",
    "    mid = n//2\n",
    "    root = NODE(X[mid], level) # 中值\n",
    "    root.left = get_kd_tree(X[:mid], level+1)\n",
    "    root.right = get_kd_tree(X[mid+1:], level+1)\n",
    "    return root\n",
    "\n",
    "\n",
    "X=[[2,3],[5,7],[9,6],[4,5],[6,4],[7,2]]\n",
    "root = get_kd_tree(X, 0)\n",
    "print(root)\n",
    "ans = level_travel(root)\n",
    "for i in ans:\n",
    "    print(i)\n"
   ]
  },
  {
   "cell_type": "code",
   "execution_count": 48,
   "metadata": {},
   "outputs": [
    {
     "name": "stdout",
     "output_type": "stream",
     "text": [
      "[[1 2 3]\n",
      " [7 8 9]]\n"
     ]
    }
   ],
   "source": [
    "import numpy as np\n",
    "\n",
    "# 创建一个二维NumPy数组\n",
    "arr = np.array([[1, 2, 3], [4, 5, 6], [7, 8, 9]])\n",
    "\n",
    "# 定义你想要移除的行的索引\n",
    "row_to_remove = 1  # 移除第二行\n",
    "\n",
    "# 创建一个新的数组，不包含指定的行\n",
    "new_arr = np.delete(arr, row_to_remove, axis=0)\n",
    "\n",
    "print(new_arr)\n"
   ]
  },
  {
   "cell_type": "code",
   "execution_count": null,
   "metadata": {},
   "outputs": [],
   "source": [
    "x[1:]\n"
   ]
  },
  {
   "cell_type": "code",
   "execution_count": null,
   "metadata": {},
   "outputs": [],
   "source": [
    "def kd_create_iterative(X: np.ndarray):\n",
    "    stack = [(X, 0)]  # 初始栈，包含特征向量X和初始level\n",
    "    root = None  # 根节点初始化为None\n",
    "\n",
    "    while stack:\n",
    "        X, level = stack.pop()\n",
    "        n = len(X)\n",
    "        dim = X.shape[1]\n",
    "        level = level % dim\n",
    "        idx = np.argsort(X[:, level])\n",
    "        X = X[idx]\n",
    "        node = NODE(X[n//2], level)\n",
    "\n",
    "        if root is None:\n",
    "            root = node\n",
    "        else:\n",
    "            current = root\n",
    "            while True:\n",
    "                if node.point[level] < current.point[level]:\n",
    "                    if current.left is None:\n",
    "                        current.left = node\n",
    "                        break\n",
    "                    else:\n",
    "                        current = current.left\n",
    "                else:\n",
    "                    if current.right is None:\n",
    "                        current.right = node\n",
    "                        break\n",
    "                    else:\n",
    "                        current = current.right\n",
    "\n",
    "        X_left, X_right = np.split(X, [n//2])\n",
    "        if len(X_left):\n",
    "            stack.append((X_left, level+1))\n",
    "        if len(X_right):\n",
    "            stack.append((X_right, level+1))\n",
    "\n",
    "    return root\n"
   ]
  },
  {
   "cell_type": "code",
   "execution_count": null,
   "metadata": {},
   "outputs": [],
   "source": [
    "X=np.array([[2,3],[5,7],[9,6],[4,5],[6,4],[7,2]])\n",
    "root = kd_create(X, 0)\n",
    "print(root)\n",
    "print(\"3333\")\n"
   ]
  },
  {
   "cell_type": "code",
   "execution_count": null,
   "metadata": {},
   "outputs": [],
   "source": [
    "x_idx = np.argsort(X[:, 1])\n",
    "X = X[x_idx]\n",
    "X = X[:1]\n",
    "X\n"
   ]
  },
  {
   "cell_type": "code",
   "execution_count": null,
   "metadata": {},
   "outputs": [],
   "source": [
    "import numpy as np\n",
    "from scipy.spatial import cKDTree\n",
    "\n",
    "# 假设我们有以下规则的二维 NumPy 数组\n",
    "# 每一行代表空间中的一个点，这里假设是二维空间\n",
    "points = np.array([\n",
    "    [1, 2],\n",
    "    [3, 4],       \n",
    "    [5, 6],\n",
    "    [7, 8]\n",
    "])\n",
    "\n",
    "# 使用 points 构造 KD 树\n",
    "tree = cKDTree(points)\n",
    "\n",
    "# 现在你可以使用 KD 树进行查询，例如查找最近的点\n",
    "point_to_query = [1.5, 2.5]\n",
    "distance, index = tree.query(point_to_query)\n",
    "print(f\"最近的点是 points[{index}]，距离是 {distance}\")\n"
   ]
  }
 ],
 "metadata": {
  "kernelspec": {
   "display_name": "pythonStudy",
   "language": "python",
   "name": "python3"
  },
  "language_info": {
   "codemirror_mode": {
    "name": "ipython",
    "version": 3
   },
   "file_extension": ".py",
   "mimetype": "text/x-python",
   "name": "python",
   "nbconvert_exporter": "python",
   "pygments_lexer": "ipython3",
   "version": "3.10.13"
  }
 },
 "nbformat": 4,
 "nbformat_minor": 2
}
