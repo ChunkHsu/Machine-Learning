{
 "cells": [
  {
   "cell_type": "markdown",
   "metadata": {},
   "source": [
    "# 机器学习练习-KNN算法"
   ]
  },
  {
   "cell_type": "markdown",
   "metadata": {},
   "source": [
    "1．$k$近邻法是基本且简单的分类与回归方法。$k$近邻法的基本做法是：对给定的训练实例点和输入实例点，首先确定输入实例点的$k$个最近邻训练实例点，然后利用这$k$个训练实例点的类的多数来预测输入实例点的类。\n",
    "\n",
    "2．$k$近邻模型对应于基于训练数据集对特征空间的一个划分。$k$近邻法中，当训练集、距离度量、$k$值及分类决策规则确定后，其结果唯一确定。\n",
    "\n",
    "3．$k$近邻法三要素：距离度量、$k$值的选择和分类决策规则。常用的距离度量是欧氏距离及更一般的**pL**距离。$k$值小时，$k$近邻模型更复杂；$k$值大时，$k$近邻模型更简单。$k$值的选择反映了对近似误差与估计误差之间的权衡，通常由交叉验证选择最优的$k$。\n",
    "\n",
    "常用的分类决策规则是多数表决，对应于经验风险最小化。\n",
    "\n",
    "4．$k$近邻法的实现需要考虑如何快速搜索k个最近邻点。**kd**树是一种便于对k维空间中的数据进行快速检索的数据结构。kd树是二叉树，表示对$k$维空间的一个划分，其每个结点对应于$k$维空间划分中的一个超矩形区域。利用**kd**树可以省去对大部分数据点的搜索， 从而减少搜索的计算量。"
   ]
  },
  {
   "cell_type": "markdown",
   "metadata": {},
   "source": [
    "## 1.距离度量"
   ]
  },
  {
   "cell_type": "markdown",
   "metadata": {},
   "source": [
    "在机器学习算法中，我们经常需要计算样本之间的相似度，通常的做法是计算样本之间的距离。\n",
    "\n",
    "设$x$和$y$为两个向量，求它们之间的距离。\n",
    "\n",
    "这里用Numpy实现，设和为`ndarray <numpy.ndarray>`，它们的shape都是`(N,)`\n",
    "\n",
    "$d$为所求的距离，是个浮点数（`float`）。"
   ]
  },
  {
   "cell_type": "code",
   "execution_count": 1,
   "metadata": {
    "ExecuteTime": {
     "end_time": "2024-04-07T02:17:57.182662500Z",
     "start_time": "2024-04-07T02:17:57.062406600Z"
    }
   },
   "outputs": [],
   "source": [
    "import numpy as np  #注意：运行代码时候需要导入NumPy库。\n"
   ]
  },
  {
   "cell_type": "markdown",
   "metadata": {},
   "source": [
    "### 欧氏距离(Euclidean distance)\n",
    "\n",
    "欧几里得度量(euclidean metric)(也称欧氏距离)是一个通常采用的距离定义，指在$m$维空间中两个点之间的真实距离，或者向量的自然长度(即该点到原点的距离)。在二维和三维空间中的欧氏距离就是两点之间的实际距离。\n",
    "\n",
    "距离公式：\n",
    "\n",
    "$$\n",
    "d\\left( x,y \\right) = \\sqrt{\\sum_{i}^{}(x_{i} - y_{i})^{2}}\n",
    "$$\n",
    "\n",
    "![img](images/16333182861.jpg)\n",
    "\n",
    "\n",
    "\n",
    "代码实现："
   ]
  },
  {
   "cell_type": "code",
   "execution_count": 2,
   "metadata": {
    "ExecuteTime": {
     "end_time": "2024-04-07T02:17:57.325896900Z",
     "start_time": "2024-04-07T02:17:57.081373800Z"
    }
   },
   "outputs": [],
   "source": [
    "def euclidean(x, y):\n",
    "\n",
    "    return np.sqrt(np.sum((x - y)**2))\n"
   ]
  },
  {
   "cell_type": "markdown",
   "metadata": {},
   "source": [
    "### 曼哈顿距离(Manhattan distance)\n",
    "\n",
    "想象你在城市道路里，要从一个十字路口开车到另外一个十字路口，驾驶距离是两点间的直线距离吗？显然不是，除非你能穿越大楼。实际驾驶距离就是这个“曼哈顿距离”。而这也是曼哈顿距离名称的来源，曼哈顿距离也称为城市街区距离(City Block distance)。\n",
    "\n",
    "距离公式：\n",
    "\n",
    "$$\n",
    "d(x,y) = \\sum_{i}^{}|x_{i} - y_{i}|\n",
    "$$\n",
    "\n",
    "![](images/638038949250eedd844a38a93a76f66b.png)\n",
    "\n",
    "\n",
    "\n",
    "代码实现："
   ]
  },
  {
   "cell_type": "code",
   "execution_count": 3,
   "metadata": {
    "ExecuteTime": {
     "end_time": "2024-04-07T02:17:57.351356900Z",
     "start_time": "2024-04-07T02:17:57.095828100Z"
    }
   },
   "outputs": [],
   "source": [
    "def manhattan(x, y):\n",
    "\n",
    "    return np.sum(np.abs(x - y))\n"
   ]
  },
  {
   "cell_type": "markdown",
   "metadata": {},
   "source": [
    "### 切比雪夫距离(Chebyshev distance)\n",
    "\n",
    "在数学中，切比雪夫距离(Chebyshev distance)或是L∞度量，是向量空间中的一种度量，二个点之间的距离定义是其各坐标数值差绝对值的最大值。以数学的观点来看，切比雪夫距离是由一致范数(uniform norm)(或称为上确界范数)所衍生的度量，也是超凸度量(injective metric space)的一种。\n",
    "\n",
    "距离公式："
   ]
  },
  {
   "cell_type": "markdown",
   "metadata": {},
   "source": [
    "$$\n",
    "d\\left( x,y \\right) = \\max_{i}\\left| x_{i} - y_{i} \\right|\n",
    "$$\n",
    "\n",
    "![](images/c7e66b17c54eb109e6474a2d93a877f1.jpg)\n",
    "\n",
    "\n",
    "若将国际象棋棋盘放在二维直角座标系中，格子的边长定义为1，座标的$x$轴及$y$轴和棋盘方格平行，原点恰落在某一格的中心点，则王从一个位置走到其他位置需要的步数恰为二个位置的切比雪夫距离，因此切比雪夫距离也称为棋盘距离。例如位置F6和位置E2的切比雪夫距离为4。任何一个不在棋盘边缘的位置，和周围八个位置的切比雪夫距离都是1。\n",
    "\n",
    "代码实现："
   ]
  },
  {
   "cell_type": "code",
   "execution_count": 4,
   "metadata": {
    "ExecuteTime": {
     "end_time": "2024-04-07T02:17:57.387288400Z",
     "start_time": "2024-04-07T02:17:57.112796900Z"
    }
   },
   "outputs": [],
   "source": [
    "def chebyshev(x, y):\n",
    "\n",
    "    return np.max(np.abs(x - y))\n"
   ]
  },
  {
   "cell_type": "markdown",
   "metadata": {},
   "source": [
    "### 闵可夫斯基距离(Minkowski distance)\n",
    "\n",
    "闵氏空间指狭义相对论中由一个时间维和三个空间维组成的时空，为俄裔德国数学家闵可夫斯基(H.Minkowski,1864-1909)最先表述。他的平坦空间(即假设没有重力，曲率为零的空间)的概念以及表示为特殊距离量的几何学是与狭义相对论的要求相一致的。闵可夫斯基空间不同于牛顿力学的平坦空间。$p$取1或2时的闵氏距离是最为常用的，$p= 2$即为欧氏距离，而$p =1$时则为曼哈顿距离。\n",
    "\n",
    "当$p$取无穷时的极限情况下，可以得到切比雪夫距离。\n",
    "\n",
    "距离公式：\n",
    "\n",
    "$$\n",
    "d\\left( x,y \\right) = \\left( \\sum_{i}^{}|x_{i} - y_{i}|^{p} \\right)^{\\frac{1}{p}}\n",
    "$$\n",
    "\n",
    "代码实现："
   ]
  },
  {
   "cell_type": "code",
   "execution_count": 5,
   "metadata": {
    "ExecuteTime": {
     "end_time": "2024-04-07T02:17:57.425221700Z",
     "start_time": "2024-04-07T02:17:57.127266200Z"
    }
   },
   "outputs": [],
   "source": [
    "def minkowski(x, y, p):\n",
    "\n",
    "    return np.sum(np.abs(x - y)**p)**(1 / p)\n"
   ]
  },
  {
   "cell_type": "markdown",
   "metadata": {},
   "source": [
    "### 汉明距离(Hamming distance)\n",
    "\n",
    "汉明距离是使用在数据传输差错控制编码里面的，汉明距离是一个概念，它表示两个(相同长度)字对应位不同的数量，我们以表示两个字,之间的汉明距离。对两个字符串进行异或运算，并统计结果为1的个数，那么这个数就是汉明距离。\n",
    "\n",
    "距离公式：\n",
    "\n",
    "$$\n",
    "d\\left( x,y \\right) = \\frac{1}{N}\\sum_{i}^{}1_{x_{i} \\neq y_{i}}\n",
    "$$\n",
    "\n",
    "![](images/5ef40ff2f81af854180751680fb334fd.jpg)\n",
    "\n",
    "\n",
    "代码实现："
   ]
  },
  {
   "cell_type": "code",
   "execution_count": 6,
   "metadata": {
    "ExecuteTime": {
     "end_time": "2024-04-07T02:17:57.470149200Z",
     "start_time": "2024-04-07T02:17:57.143239500Z"
    }
   },
   "outputs": [],
   "source": [
    "def hamming(x, y):\n",
    "\n",
    "    return np.sum(x != y) / len(x)\n"
   ]
  },
  {
   "cell_type": "markdown",
   "metadata": {},
   "source": [
    "### 余弦相似度(Cosine Similarity)\n",
    "\n",
    "余弦相似性通过测量两个向量的夹角的余弦值来度量它们之间的相似性。0度角的余弦值是1，而其他任何角度的余弦值都不大于1；并且其最小值是-1。从而两个向量之间的角度的余弦值确定两个向量是否大致指向相同的方向。两个向量有相同的指向时，余弦相似度的值为1；两个向量夹角为90°时，余弦相似度的值为0；两个向量指向完全相反的方向时，余弦相似度的值为-1。这结果是与向量的长度无关的，仅仅与向量的指向方向相关。余弦相似度通常用于正空间，因此给出的值为0到1之间。\n",
    "\n",
    "![ ](images/61876887fce99b1e847ad72531f3b650.jpg)\n",
    "\n",
    "\n",
    "\n",
    "二维空间为例，上图的$a$和$b$是两个向量，我们要计算它们的夹角θ。余弦定理告诉我们，可以用下面的公式求得：\n",
    "\n",
    "$$\n",
    "\\cos\\theta = \\frac{a^{2} + b^{2} - c^{2}}{2ab}\n",
    "$$\n",
    "\n",
    "假定$a$向量是$\\left\\lbrack x_{1},y_{1}\n",
    "\\right\\rbrack$，$b$向量是$\\left\\lbrack x_{2},y_{2}\n",
    "\\right\\rbrack$，两个向量间的余弦值可以通过使用欧几里得点积公式求出：\n",
    "\n",
    "$$\n",
    "\\cos\\left( \\theta \\right) = \\frac{A \\cdot B}{\\parallel A \\parallel \\parallel B \\parallel} = \\frac{\\sum_{i = 1}^{n}A_{i} \\times B_{i}}{\\sqrt{\\sum_{i = 1}^{n}(A_{i})^{2} \\times \\sqrt{\\sum_{i = 1}^{n}(B_{i})^{2}}}}\n",
    "$$\n",
    "\n",
    "$$\n",
    "\\cos\\left( \\theta \\right) = \\frac{A \\cdot B}{\\parallel A \\parallel \\parallel B \\parallel} = \\frac{\\left( x_{1},y_{1} \\right) \\cdot \\left( x_{2},y_{2} \\right)}{\\sqrt{x_{1}^{2} + y_{1}^{2}} \\times \\sqrt{x_{2}^{2} + y_{2}^{2}}} = \\frac{x_{1}x_{2} + y_{1}y_{2}}{\\sqrt{x_{1}^{2} + y_{1}^{2}} \\times \\sqrt{x_{2}^{2} + y_{2}^{2}}}\n",
    "$$\n",
    "\n",
    "如果向量$a$和$b$不是二维而是$n$维，上述余弦的计算法仍然正确。假定$A$和$B$是两个$n$维向量，$A$是$\\left\\lbrack\n",
    "A_{1},A_{2},\\ldots,A_{n} \\right\\rbrack$，$B$是$\\left\\lbrack\n",
    "B_{1},B_{2},\\ldots,B_{n} \\right\\rbrack$，则$A$与$B$的夹角余弦等于：\n",
    "\n",
    "$$\n",
    "\\cos\\left( \\theta \\right) = \\frac{A \\cdot B}{\\parallel A \\parallel \\parallel B \\parallel} = \\frac{\\sum_{i = 1}^{n}A_{i} \\times B_{i}}{\\sqrt{\\sum_{i = 1}^{n}(A_{i})^{2}} \\times \\sqrt{\\sum_{i = 1}^{n}(B_{i})^{2}}}\n",
    "$$\n",
    "\n",
    "![](images/713ca7c3b9047e27166244a0f047ffe7.jpg)\n",
    "\n",
    "代码实现："
   ]
  },
  {
   "cell_type": "code",
   "execution_count": 7,
   "metadata": {
    "ExecuteTime": {
     "end_time": "2024-04-07T02:17:57.482615200Z",
     "start_time": "2024-04-07T02:17:57.158716600Z"
    }
   },
   "outputs": [],
   "source": [
    "from math import *\n",
    "\n",
    "def square_rooted(x):\n",
    "\n",
    "    return round(sqrt(sum([a*a for a in x])),3)\n"
   ]
  },
  {
   "cell_type": "code",
   "execution_count": 8,
   "metadata": {
    "ExecuteTime": {
     "end_time": "2024-04-07T02:17:57.484608700Z",
     "start_time": "2024-04-07T02:17:57.175179900Z"
    }
   },
   "outputs": [],
   "source": [
    "def cosine_similarity(x, y):\n",
    "\n",
    "    numerator = sum(a * b for a, b in zip(x, y))\n",
    "    denominator = square_rooted(x) * square_rooted(y)\n",
    "    return round(numerator / float(denominator), 3)\n"
   ]
  },
  {
   "cell_type": "code",
   "execution_count": 9,
   "metadata": {
    "ExecuteTime": {
     "end_time": "2024-04-07T02:17:57.484608700Z",
     "start_time": "2024-04-07T02:17:57.191152200Z"
    }
   },
   "outputs": [
    {
     "name": "stdout",
     "output_type": "stream",
     "text": [
      "0.972\n"
     ]
    }
   ],
   "source": [
    "print(cosine_similarity([3, 45, 7, 2], [2, 54, 13, 15]))\n"
   ]
  },
  {
   "cell_type": "markdown",
   "metadata": {},
   "source": [
    "## KNN算法"
   ]
  },
  {
   "cell_type": "markdown",
   "metadata": {},
   "source": [
    "1．$k$近邻法是基本且简单的分类与回归方法。$k$近邻法的基本做法是：对给定的训练实例点和输入实例点，首先确定输入实例点的$k$个最近邻训练实例点，然后利用这$k$个训练实例点的类的多数来预测输入实例点的类。\n",
    "\n",
    "2．$k$近邻模型对应于基于训练数据集对特征空间的一个划分。$k$近邻法中，当训练集、距离度量、$k$值及分类决策规则确定后，其结果唯一确定。\n",
    "\n",
    "3．$k$近邻法三要素：距离度量、$k$值的选择和分类决策规则。常用的距离度量是欧氏距离。$k$值小时，$k$近邻模型更复杂；$k$值大时，$k$近邻模型更简单。$k$值的选择反映了对近似误差与估计误差之间的权衡，通常由交叉验证选择最优的$k$。\n",
    "\n",
    "常用的分类决策规则是多数表决，对应于经验风险最小化。\n",
    "\n",
    "4．$k$近邻法的实现需要考虑如何快速搜索k个最近邻点。**kd**树是一种便于对k维空间中的数据进行快速检索的数据结构。kd树是二叉树，表示对$k$维空间的一个划分，其每个结点对应于$k$维空间划分中的一个超矩形区域。利用**kd**树可以省去对大部分数据点的搜索， 从而减少搜索的计算量。"
   ]
  },
  {
   "cell_type": "markdown",
   "metadata": {},
   "source": [
    "python实现，遍历所有数据点，找出$n$个距离最近的点的分类情况，少数服从多数"
   ]
  },
  {
   "cell_type": "code",
   "execution_count": 10,
   "metadata": {
    "ExecuteTime": {
     "end_time": "2024-04-07T02:17:57.484608700Z",
     "start_time": "2024-04-07T02:17:57.205611500Z"
    }
   },
   "outputs": [],
   "source": [
    "import numpy as np\n",
    "import pandas as pd\n",
    "import matplotlib.pyplot as plt\n",
    "from sklearn.datasets import load_iris\n",
    "from sklearn.model_selection import train_test_split\n",
    "from collections import Counter\n"
   ]
  },
  {
   "cell_type": "markdown",
   "metadata": {},
   "source": [
    "导入鸢尾花数据集"
   ]
  },
  {
   "cell_type": "code",
   "execution_count": 11,
   "metadata": {
    "ExecuteTime": {
     "end_time": "2024-04-07T02:17:57.484608700Z",
     "start_time": "2024-04-07T02:17:57.221582100Z"
    }
   },
   "outputs": [],
   "source": [
    "iris = load_iris()\n",
    "df = pd.DataFrame(iris.data, columns=iris.feature_names)\n",
    "df['label'] = iris.target\n",
    "df.columns = ['sepal length', 'sepal width', 'petal length', 'petal width', 'label']\n"
   ]
  },
  {
   "cell_type": "code",
   "execution_count": 12,
   "metadata": {
    "ExecuteTime": {
     "end_time": "2024-04-07T02:17:57.485605900Z",
     "start_time": "2024-04-07T02:17:57.237049100Z"
    }
   },
   "outputs": [
    {
     "data": {
      "text/html": [
       "<div>\n",
       "<style scoped>\n",
       "    .dataframe tbody tr th:only-of-type {\n",
       "        vertical-align: middle;\n",
       "    }\n",
       "\n",
       "    .dataframe tbody tr th {\n",
       "        vertical-align: top;\n",
       "    }\n",
       "\n",
       "    .dataframe thead th {\n",
       "        text-align: right;\n",
       "    }\n",
       "</style>\n",
       "<table border=\"1\" class=\"dataframe\">\n",
       "  <thead>\n",
       "    <tr style=\"text-align: right;\">\n",
       "      <th></th>\n",
       "      <th>sepal length</th>\n",
       "      <th>sepal width</th>\n",
       "      <th>petal length</th>\n",
       "      <th>petal width</th>\n",
       "      <th>label</th>\n",
       "    </tr>\n",
       "  </thead>\n",
       "  <tbody>\n",
       "    <tr>\n",
       "      <th>0</th>\n",
       "      <td>5.1</td>\n",
       "      <td>3.5</td>\n",
       "      <td>1.4</td>\n",
       "      <td>0.2</td>\n",
       "      <td>0</td>\n",
       "    </tr>\n",
       "    <tr>\n",
       "      <th>1</th>\n",
       "      <td>4.9</td>\n",
       "      <td>3.0</td>\n",
       "      <td>1.4</td>\n",
       "      <td>0.2</td>\n",
       "      <td>0</td>\n",
       "    </tr>\n",
       "    <tr>\n",
       "      <th>2</th>\n",
       "      <td>4.7</td>\n",
       "      <td>3.2</td>\n",
       "      <td>1.3</td>\n",
       "      <td>0.2</td>\n",
       "      <td>0</td>\n",
       "    </tr>\n",
       "    <tr>\n",
       "      <th>3</th>\n",
       "      <td>4.6</td>\n",
       "      <td>3.1</td>\n",
       "      <td>1.5</td>\n",
       "      <td>0.2</td>\n",
       "      <td>0</td>\n",
       "    </tr>\n",
       "    <tr>\n",
       "      <th>4</th>\n",
       "      <td>5.0</td>\n",
       "      <td>3.6</td>\n",
       "      <td>1.4</td>\n",
       "      <td>0.2</td>\n",
       "      <td>0</td>\n",
       "    </tr>\n",
       "  </tbody>\n",
       "</table>\n",
       "</div>"
      ],
      "text/plain": [
       "   sepal length  sepal width  petal length  petal width  label\n",
       "0           5.1          3.5           1.4          0.2      0\n",
       "1           4.9          3.0           1.4          0.2      0\n",
       "2           4.7          3.2           1.3          0.2      0\n",
       "3           4.6          3.1           1.5          0.2      0\n",
       "4           5.0          3.6           1.4          0.2      0"
      ]
     },
     "execution_count": 12,
     "metadata": {},
     "output_type": "execute_result"
    }
   ],
   "source": [
    "df.head()\n"
   ]
  },
  {
   "cell_type": "markdown",
   "metadata": {},
   "source": [
    "选择长和宽的数据进行可视化"
   ]
  },
  {
   "cell_type": "code",
   "execution_count": 13,
   "metadata": {
    "ExecuteTime": {
     "end_time": "2024-04-07T02:17:57.485605900Z",
     "start_time": "2024-04-07T02:17:57.252098200Z"
    }
   },
   "outputs": [
    {
     "data": {
      "image/png": "[encoded data removed]",
      "text/plain": [
       "<Figure size 1200x800 with 1 Axes>"
      ]
     },
     "metadata": {},
     "output_type": "display_data"
    }
   ],
   "source": [
    "plt.figure(figsize=(12, 8))\n",
    "plt.scatter(df[:50]['sepal length'], df[:50]['sepal width'], label='0')\n",
    "plt.scatter(df[50:100]['sepal length'], df[50:100]['sepal width'], label='1')\n",
    "plt.xlabel('sepal length', fontsize=18)\n",
    "plt.ylabel('sepal width', fontsize=18)\n",
    "plt.legend()\n",
    "plt.show()\n"
   ]
  },
  {
   "cell_type": "markdown",
   "metadata": {},
   "source": [
    "### Numpy实现"
   ]
  },
  {
   "cell_type": "code",
   "execution_count": 14,
   "metadata": {
    "ExecuteTime": {
     "end_time": "2024-04-07T02:17:57.498934Z",
     "start_time": "2024-04-07T02:17:57.333387Z"
    }
   },
   "outputs": [],
   "source": [
    "class KNN:\n",
    "\n",
    "    def __init__(self, X_train, y_train, n_neighbors=3, p=2):\n",
    "        \"\"\"\n",
    "        parameter: n_neighbors 临近点个数\n",
    "        parameter: p 距离度量\n",
    "        \"\"\"\n",
    "        self.n = n_neighbors\n",
    "        self.p = p\n",
    "        self.X_train = X_train\n",
    "        self.y_train = y_train\n",
    "\n",
    "    # 对给定的输入数据进行预测\n",
    "    def predict(self, X):\n",
    "        # 取出n个点\n",
    "        knn_list = []\n",
    "        for i in range(self.n):\n",
    "            # 计算输入数据和训练样本之间的距离\n",
    "            dist = np.linalg.norm(X - self.X_train[i], ord=self.p)\n",
    "            # 将距离和对应的训练样本标签添加到knn_list中\n",
    "            knn_list.append((dist, self.y_train[i]))\n",
    "\n",
    "        # 对于训练集中不在前n个最近邻中的样本，找到距离最近的前n个邻居中出现次数最多的类别\n",
    "        for i in range(self.n, len(self.X_train)):\n",
    "            # 找到距离最大的点的索引\n",
    "            max_index = knn_list.index(max(knn_list, key=lambda x: x[0]))\n",
    "            # 计算输入数据和训练样本之间的距离\n",
    "            dist = np.linalg.norm(X - self.X_train[i], ord=self.p)\n",
    "            # 如果当前样本的距离比最大距离小，则替换最大距离的样本\n",
    "            if knn_list[max_index][0] > dist:\n",
    "                knn_list[max_index] = (dist, self.y_train[i])\n",
    "\n",
    "        # 统计每个类别的出现次数\n",
    "        knn = [k[-1] for k in knn_list]\n",
    "        count_pairs = Counter(knn)\n",
    "        # 找到出现次数最多的类别\n",
    "        max_count = sorted(count_pairs.items(), key=lambda x: x[1])[-1][0]\n",
    "        return max_count\n",
    "\n",
    "    def score(self, X_test, y_test):\n",
    "        right_count = 0  # 初始化正确预测的数量为0\n",
    "        n = 10  # 设置每个样本最多考虑的最近邻居数量为10\n",
    "        for X, y in zip(X_test, y_test):  # 对于测试集中的每一个样本和标签\n",
    "            label = self.predict(X)  # 使用模型进行预测\n",
    "            if label == y:  # 如果预测结果与真实标签相同\n",
    "                right_count += 1  # 则正确预测的数量加1\n",
    "        return right_count / len(X_test)  # 返回模型在测试集上的准确率\n"
   ]
  },
  {
   "cell_type": "code",
   "execution_count": 15,
   "metadata": {
    "ExecuteTime": {
     "end_time": "2024-04-07T02:17:57.599205600Z",
     "start_time": "2024-04-07T02:17:57.347358300Z"
    }
   },
   "outputs": [],
   "source": [
    "data = np.array(df.iloc[:150, [0, 1, -1]])\n",
    "X, y = data[:,:-1], data[:,-1]\n",
    "X_train, X_test, y_train, y_test = train_test_split(X, y, test_size=0.3)\n"
   ]
  },
  {
   "cell_type": "code",
   "execution_count": 16,
   "metadata": {
    "ExecuteTime": {
     "end_time": "2024-04-07T02:17:57.599205600Z",
     "start_time": "2024-04-07T02:17:57.361348800Z"
    },
    "scrolled": true
   },
   "outputs": [],
   "source": [
    "clf = KNN(X_train, y_train)\n"
   ]
  },
  {
   "cell_type": "code",
   "execution_count": 17,
   "metadata": {
    "ExecuteTime": {
     "end_time": "2024-04-07T02:17:57.601200700Z",
     "start_time": "2024-04-07T02:17:57.377310600Z"
    }
   },
   "outputs": [
    {
     "data": {
      "text/plain": [
       "0.6666666666666666"
      ]
     },
     "execution_count": 17,
     "metadata": {},
     "output_type": "execute_result"
    }
   ],
   "source": [
    "clf.score(X_test, y_test)\n"
   ]
  },
  {
   "cell_type": "code",
   "execution_count": 18,
   "metadata": {
    "ExecuteTime": {
     "end_time": "2024-04-07T02:17:57.601200700Z",
     "start_time": "2024-04-07T02:17:57.393774600Z"
    }
   },
   "outputs": [
    {
     "name": "stdout",
     "output_type": "stream",
     "text": [
      "Test Point: 1.0\n"
     ]
    }
   ],
   "source": [
    "test_point = [6.0, 3.0]\n",
    "print('Test Point: {}'.format(clf.predict(test_point)))\n"
   ]
  },
  {
   "cell_type": "markdown",
   "metadata": {},
   "source": [
    "### Scikit-learn实例\n",
    "#### sklearn.neighbors.KNeighborsClassifier\n",
    "\n",
    "- n_neighbors: 临近点个数，即k的个数，默认是5\n",
    "- p: 距离度量，默认\n",
    "- algorithm: 近邻算法，可选{'auto', 'ball_tree', 'kd_tree', 'brute'}\n",
    "- weights: 确定近邻的权重\n",
    "\n",
    "- n_neighbors ： int，optional(default = 5)\n",
    "默认情况下kneighbors查询使用的邻居数。就是k-NN的k的值，选取最近的k个点。\n",
    "\n",
    "- weights ： str或callable，可选(默认=‘uniform’)\n",
    "默认是uniform，参数可以是uniform、distance，也可以是用户自己定义的函数。uniform是均等的权重，就说所有的邻近点的权重都是相等的。distance是不均等的权重，距离近的点比距离远的点的影响大。用户自定义的函数，接收距离的数组，返回一组维数相同的权重。\n",
    "- algorithm ： {‘auto’，‘ball_tree’，‘kd_tree’，‘brute’}，可选\n",
    "快速k近邻搜索算法，默认参数为auto，可以理解为算法自己决定合适的搜索算法。除此之外，用户也可以自己指定搜索算法ball_tree、kd_tree、brute方法进行搜索，brute是蛮力搜索，也就是线性扫描，当训练集很大时，计算非常耗时。kd_tree，构造kd树存储数据以便对其进行快速检索的树形数据结构，kd树也就是数据结构中的二叉树。以中值切分构造的树，每个结点是一个超矩形，在维数小于20时效率高。ball tree是为了克服kd树高纬失效而发明的，其构造过程是以质心C和半径r分割样本空间，每个节点是一个超球体。\n",
    "\n",
    "- leaf_size ： int，optional(默认值= 30)\n",
    "默认是30，这个是构造的kd树和ball树的大小。这个值的设置会影响树构建的速度和搜索速度，同样也影响着存储树所需的内存大小。需要根据问题的性质选择最优的大小。\n",
    "\n",
    "- p ： 整数，可选(默认= 2)\n",
    "距离度量公式。在上小结，我们使用欧氏距离公式进行距离度量。除此之外，还有其他的度量方法，例如曼哈顿距离。这个参数默认为2，也就是默认使用欧式距离公式进行距离度量。也可以设置为1，使用曼哈顿距离公式进行距离度量。\n",
    "\n",
    "- metric ： 字符串或可调用，默认为’minkowski’\n",
    "用于距离度量，默认度量是minkowski，也就是p=2的欧氏距离(欧几里德度量)。\n",
    "\n",
    "- metric_params ： dict，optional(默认=None)\n",
    "距离公式的其他关键参数，这个可以不管，使用默认的None即可。\n",
    "\n",
    "- n_jobs ： int或None，可选(默认=None)\n",
    "并行处理设置。默认为1，临近点搜索并行工作数。如果为-1，那么CPU的所有cores都用于并行工作。"
   ]
  },
  {
   "cell_type": "code",
   "execution_count": 19,
   "metadata": {
    "ExecuteTime": {
     "end_time": "2024-04-07T02:17:57.601200700Z",
     "start_time": "2024-04-07T02:17:57.409755Z"
    }
   },
   "outputs": [],
   "source": [
    "from sklearn.neighbors import KNeighborsClassifier\n"
   ]
  },
  {
   "cell_type": "markdown",
   "metadata": {},
   "source": [
    "不同k(n_neighbors)值下的结果："
   ]
  },
  {
   "cell_type": "code",
   "execution_count": 20,
   "metadata": {
    "ExecuteTime": {
     "end_time": "2024-04-07T02:17:57.602197100Z",
     "start_time": "2024-04-07T02:17:57.425221700Z"
    }
   },
   "outputs": [
    {
     "data": {
      "text/html": [
       "<style>#sk-container-id-1 {\n",
       "  /* Definition of color scheme common for light and dark mode */\n",
       "  --sklearn-color-text: black;\n",
       "  --sklearn-color-line: gray;\n",
       "  /* Definition of color scheme for unfitted estimators */\n",
       "  --sklearn-color-unfitted-level-0: #fff5e6;\n",
       "  --sklearn-color-unfitted-level-1: #f6e4d2;\n",
       "  --sklearn-color-unfitted-level-2: #ffe0b3;\n",
       "  --sklearn-color-unfitted-level-3: chocolate;\n",
       "  /* Definition of color scheme for fitted estimators */\n",
       "  --sklearn-color-fitted-level-0: #f0f8ff;\n",
       "  --sklearn-color-fitted-level-1: #d4ebff;\n",
       "  --sklearn-color-fitted-level-2: #b3dbfd;\n",
       "  --sklearn-color-fitted-level-3: cornflowerblue;\n",
       "\n",
       "  /* Specific color for light theme */\n",
       "  --sklearn-color-text-on-default-background: var(--sg-text-color, var(--theme-code-foreground, var(--jp-content-font-color1, black)));\n",
       "  --sklearn-color-background: var(--sg-background-color, var(--theme-background, var(--jp-layout-color0, white)));\n",
       "  --sklearn-color-border-box: var(--sg-text-color, var(--theme-code-foreground, var(--jp-content-font-color1, black)));\n",
       "  --sklearn-color-icon: #696969;\n",
       "\n",
       "  @media (prefers-color-scheme: dark) {\n",
       "    /* Redefinition of color scheme for dark theme */\n",
       "    --sklearn-color-text-on-default-background: var(--sg-text-color, var(--theme-code-foreground, var(--jp-content-font-color1, white)));\n",
       "    --sklearn-color-background: var(--sg-background-color, var(--theme-background, var(--jp-layout-color0, #111)));\n",
       "    --sklearn-color-border-box: var(--sg-text-color, var(--theme-code-foreground, var(--jp-content-font-color1, white)));\n",
       "    --sklearn-color-icon: #878787;\n",
       "  }\n",
       "}\n",
       "\n",
       "#sk-container-id-1 {\n",
       "  color: var(--sklearn-color-text);\n",
       "}\n",
       "\n",
       "#sk-container-id-1 pre {\n",
       "  padding: 0;\n",
       "}\n",
       "\n",
       "#sk-container-id-1 input.sk-hidden--visually {\n",
       "  border: 0;\n",
       "  clip: rect(1px 1px 1px 1px);\n",
       "  clip: rect(1px, 1px, 1px, 1px);\n",
       "  height: 1px;\n",
       "  margin: -1px;\n",
       "  overflow: hidden;\n",
       "  padding: 0;\n",
       "  position: absolute;\n",
       "  width: 1px;\n",
       "}\n",
       "\n",
       "#sk-container-id-1 div.sk-dashed-wrapped {\n",
       "  border: 1px dashed var(--sklearn-color-line);\n",
       "  margin: 0 0.4em 0.5em 0.4em;\n",
       "  box-sizing: border-box;\n",
       "  padding-bottom: 0.4em;\n",
       "  background-color: var(--sklearn-color-background);\n",
       "}\n",
       "\n",
       "#sk-container-id-1 div.sk-container {\n",
       "  /* jupyter's `normalize.less` sets `[hidden] { display: none; }`\n",
       "     but bootstrap.min.css set `[hidden] { display: none !important; }`\n",
       "     so we also need the `!important` here to be able to override the\n",
       "     default hidden behavior on the sphinx rendered scikit-learn.org.\n",
       "     See: https://github.com/scikit-learn/scikit-learn/issues/21755 */\n",
       "  display: inline-block !important;\n",
       "  position: relative;\n",
       "}\n",
       "\n",
       "#sk-container-id-1 div.sk-text-repr-fallback {\n",
       "  display: none;\n",
       "}\n",
       "\n",
       "div.sk-parallel-item,\n",
       "div.sk-serial,\n",
       "div.sk-item {\n",
       "  /* draw centered vertical line to link estimators */\n",
       "  background-image: linear-gradient(var(--sklearn-color-text-on-default-background), var(--sklearn-color-text-on-default-background));\n",
       "  background-size: 2px 100%;\n",
       "  background-repeat: no-repeat;\n",
       "  background-position: center center;\n",
       "}\n",
       "\n",
       "/* Parallel-specific style estimator block */\n",
       "\n",
       "#sk-container-id-1 div.sk-parallel-item::after {\n",
       "  content: \"\";\n",
       "  width: 100%;\n",
       "  border-bottom: 2px solid var(--sklearn-color-text-on-default-background);\n",
       "  flex-grow: 1;\n",
       "}\n",
       "\n",
       "#sk-container-id-1 div.sk-parallel {\n",
       "  display: flex;\n",
       "  align-items: stretch;\n",
       "  justify-content: center;\n",
       "  background-color: var(--sklearn-color-background);\n",
       "  position: relative;\n",
       "}\n",
       "\n",
       "#sk-container-id-1 div.sk-parallel-item {\n",
       "  display: flex;\n",
       "  flex-direction: column;\n",
       "}\n",
       "\n",
       "#sk-container-id-1 div.sk-parallel-item:first-child::after {\n",
       "  align-self: flex-end;\n",
       "  width: 50%;\n",
       "}\n",
       "\n",
       "#sk-container-id-1 div.sk-parallel-item:last-child::after {\n",
       "  align-self: flex-start;\n",
       "  width: 50%;\n",
       "}\n",
       "\n",
       "#sk-container-id-1 div.sk-parallel-item:only-child::after {\n",
       "  width: 0;\n",
       "}\n",
       "\n",
       "/* Serial-specific style estimator block */\n",
       "\n",
       "#sk-container-id-1 div.sk-serial {\n",
       "  display: flex;\n",
       "  flex-direction: column;\n",
       "  align-items: center;\n",
       "  background-color: var(--sklearn-color-background);\n",
       "  padding-right: 1em;\n",
       "  padding-left: 1em;\n",
       "}\n",
       "\n",
       "\n",
       "/* Toggleable style: style used for estimator/Pipeline/ColumnTransformer box that is\n",
       "clickable and can be expanded/collapsed.\n",
       "- Pipeline and ColumnTransformer use this feature and define the default style\n",
       "- Estimators will overwrite some part of the style using the `sk-estimator` class\n",
       "*/\n",
       "\n",
       "/* Pipeline and ColumnTransformer style (default) */\n",
       "\n",
       "#sk-container-id-1 div.sk-toggleable {\n",
       "  /* Default theme specific background. It is overwritten whether we have a\n",
       "  specific estimator or a Pipeline/ColumnTransformer */\n",
       "  background-color: var(--sklearn-color-background);\n",
       "}\n",
       "\n",
       "/* Toggleable label */\n",
       "#sk-container-id-1 label.sk-toggleable__label {\n",
       "  cursor: pointer;\n",
       "  display: block;\n",
       "  width: 100%;\n",
       "  margin-bottom: 0;\n",
       "  padding: 0.5em;\n",
       "  box-sizing: border-box;\n",
       "  text-align: center;\n",
       "}\n",
       "\n",
       "#sk-container-id-1 label.sk-toggleable__label-arrow:before {\n",
       "  /* Arrow on the left of the label */\n",
       "  content: \"▸\";\n",
       "  float: left;\n",
       "  margin-right: 0.25em;\n",
       "  color: var(--sklearn-color-icon);\n",
       "}\n",
       "\n",
       "#sk-container-id-1 label.sk-toggleable__label-arrow:hover:before {\n",
       "  color: var(--sklearn-color-text);\n",
       "}\n",
       "\n",
       "/* Toggleable content - dropdown */\n",
       "\n",
       "#sk-container-id-1 div.sk-toggleable__content {\n",
       "  max-height: 0;\n",
       "  max-width: 0;\n",
       "  overflow: hidden;\n",
       "  text-align: left;\n",
       "  /* unfitted */\n",
       "  background-color: var(--sklearn-color-unfitted-level-0);\n",
       "}\n",
       "\n",
       "#sk-container-id-1 div.sk-toggleable__content.fitted {\n",
       "  /* fitted */\n",
       "  background-color: var(--sklearn-color-fitted-level-0);\n",
       "}\n",
       "\n",
       "#sk-container-id-1 div.sk-toggleable__content pre {\n",
       "  margin: 0.2em;\n",
       "  border-radius: 0.25em;\n",
       "  color: var(--sklearn-color-text);\n",
       "  /* unfitted */\n",
       "  background-color: var(--sklearn-color-unfitted-level-0);\n",
       "}\n",
       "\n",
       "#sk-container-id-1 div.sk-toggleable__content.fitted pre {\n",
       "  /* unfitted */\n",
       "  background-color: var(--sklearn-color-fitted-level-0);\n",
       "}\n",
       "\n",
       "#sk-container-id-1 input.sk-toggleable__control:checked~div.sk-toggleable__content {\n",
       "  /* Expand drop-down */\n",
       "  max-height: 200px;\n",
       "  max-width: 100%;\n",
       "  overflow: auto;\n",
       "}\n",
       "\n",
       "#sk-container-id-1 input.sk-toggleable__control:checked~label.sk-toggleable__label-arrow:before {\n",
       "  content: \"▾\";\n",
       "}\n",
       "\n",
       "/* Pipeline/ColumnTransformer-specific style */\n",
       "\n",
       "#sk-container-id-1 div.sk-label input.sk-toggleable__control:checked~label.sk-toggleable__label {\n",
       "  color: var(--sklearn-color-text);\n",
       "  background-color: var(--sklearn-color-unfitted-level-2);\n",
       "}\n",
       "\n",
       "#sk-container-id-1 div.sk-label.fitted input.sk-toggleable__control:checked~label.sk-toggleable__label {\n",
       "  background-color: var(--sklearn-color-fitted-level-2);\n",
       "}\n",
       "\n",
       "/* Estimator-specific style */\n",
       "\n",
       "/* Colorize estimator box */\n",
       "#sk-container-id-1 div.sk-estimator input.sk-toggleable__control:checked~label.sk-toggleable__label {\n",
       "  /* unfitted */\n",
       "  background-color: var(--sklearn-color-unfitted-level-2);\n",
       "}\n",
       "\n",
       "#sk-container-id-1 div.sk-estimator.fitted input.sk-toggleable__control:checked~label.sk-toggleable__label {\n",
       "  /* fitted */\n",
       "  background-color: var(--sklearn-color-fitted-level-2);\n",
       "}\n",
       "\n",
       "#sk-container-id-1 div.sk-label label.sk-toggleable__label,\n",
       "#sk-container-id-1 div.sk-label label {\n",
       "  /* The background is the default theme color */\n",
       "  color: var(--sklearn-color-text-on-default-background);\n",
       "}\n",
       "\n",
       "/* On hover, darken the color of the background */\n",
       "#sk-container-id-1 div.sk-label:hover label.sk-toggleable__label {\n",
       "  color: var(--sklearn-color-text);\n",
       "  background-color: var(--sklearn-color-unfitted-level-2);\n",
       "}\n",
       "\n",
       "/* Label box, darken color on hover, fitted */\n",
       "#sk-container-id-1 div.sk-label.fitted:hover label.sk-toggleable__label.fitted {\n",
       "  color: var(--sklearn-color-text);\n",
       "  background-color: var(--sklearn-color-fitted-level-2);\n",
       "}\n",
       "\n",
       "/* Estimator label */\n",
       "\n",
       "#sk-container-id-1 div.sk-label label {\n",
       "  font-family: monospace;\n",
       "  font-weight: bold;\n",
       "  display: inline-block;\n",
       "  line-height: 1.2em;\n",
       "}\n",
       "\n",
       "#sk-container-id-1 div.sk-label-container {\n",
       "  text-align: center;\n",
       "}\n",
       "\n",
       "/* Estimator-specific */\n",
       "#sk-container-id-1 div.sk-estimator {\n",
       "  font-family: monospace;\n",
       "  border: 1px dotted var(--sklearn-color-border-box);\n",
       "  border-radius: 0.25em;\n",
       "  box-sizing: border-box;\n",
       "  margin-bottom: 0.5em;\n",
       "  /* unfitted */\n",
       "  background-color: var(--sklearn-color-unfitted-level-0);\n",
       "}\n",
       "\n",
       "#sk-container-id-1 div.sk-estimator.fitted {\n",
       "  /* fitted */\n",
       "  background-color: var(--sklearn-color-fitted-level-0);\n",
       "}\n",
       "\n",
       "/* on hover */\n",
       "#sk-container-id-1 div.sk-estimator:hover {\n",
       "  /* unfitted */\n",
       "  background-color: var(--sklearn-color-unfitted-level-2);\n",
       "}\n",
       "\n",
       "#sk-container-id-1 div.sk-estimator.fitted:hover {\n",
       "  /* fitted */\n",
       "  background-color: var(--sklearn-color-fitted-level-2);\n",
       "}\n",
       "\n",
       "/* Specification for estimator info (e.g. \"i\" and \"?\") */\n",
       "\n",
       "/* Common style for \"i\" and \"?\" */\n",
       "\n",
       ".sk-estimator-doc-link,\n",
       "a:link.sk-estimator-doc-link,\n",
       "a:visited.sk-estimator-doc-link {\n",
       "  float: right;\n",
       "  font-size: smaller;\n",
       "  line-height: 1em;\n",
       "  font-family: monospace;\n",
       "  background-color: var(--sklearn-color-background);\n",
       "  border-radius: 1em;\n",
       "  height: 1em;\n",
       "  width: 1em;\n",
       "  text-decoration: none !important;\n",
       "  margin-left: 1ex;\n",
       "  /* unfitted */\n",
       "  border: var(--sklearn-color-unfitted-level-1) 1pt solid;\n",
       "  color: var(--sklearn-color-unfitted-level-1);\n",
       "}\n",
       "\n",
       ".sk-estimator-doc-link.fitted,\n",
       "a:link.sk-estimator-doc-link.fitted,\n",
       "a:visited.sk-estimator-doc-link.fitted {\n",
       "  /* fitted */\n",
       "  border: var(--sklearn-color-fitted-level-1) 1pt solid;\n",
       "  color: var(--sklearn-color-fitted-level-1);\n",
       "}\n",
       "\n",
       "/* On hover */\n",
       "div.sk-estimator:hover .sk-estimator-doc-link:hover,\n",
       ".sk-estimator-doc-link:hover,\n",
       "div.sk-label-container:hover .sk-estimator-doc-link:hover,\n",
       ".sk-estimator-doc-link:hover {\n",
       "  /* unfitted */\n",
       "  background-color: var(--sklearn-color-unfitted-level-3);\n",
       "  color: var(--sklearn-color-background);\n",
       "  text-decoration: none;\n",
       "}\n",
       "\n",
       "div.sk-estimator.fitted:hover .sk-estimator-doc-link.fitted:hover,\n",
       ".sk-estimator-doc-link.fitted:hover,\n",
       "div.sk-label-container:hover .sk-estimator-doc-link.fitted:hover,\n",
       ".sk-estimator-doc-link.fitted:hover {\n",
       "  /* fitted */\n",
       "  background-color: var(--sklearn-color-fitted-level-3);\n",
       "  color: var(--sklearn-color-background);\n",
       "  text-decoration: none;\n",
       "}\n",
       "\n",
       "/* Span, style for the box shown on hovering the info icon */\n",
       ".sk-estimator-doc-link span {\n",
       "  display: none;\n",
       "  z-index: 9999;\n",
       "  position: relative;\n",
       "  font-weight: normal;\n",
       "  right: .2ex;\n",
       "  padding: .5ex;\n",
       "  margin: .5ex;\n",
       "  width: min-content;\n",
       "  min-width: 20ex;\n",
       "  max-width: 50ex;\n",
       "  color: var(--sklearn-color-text);\n",
       "  box-shadow: 2pt 2pt 4pt #999;\n",
       "  /* unfitted */\n",
       "  background: var(--sklearn-color-unfitted-level-0);\n",
       "  border: .5pt solid var(--sklearn-color-unfitted-level-3);\n",
       "}\n",
       "\n",
       ".sk-estimator-doc-link.fitted span {\n",
       "  /* fitted */\n",
       "  background: var(--sklearn-color-fitted-level-0);\n",
       "  border: var(--sklearn-color-fitted-level-3);\n",
       "}\n",
       "\n",
       ".sk-estimator-doc-link:hover span {\n",
       "  display: block;\n",
       "}\n",
       "\n",
       "/* \"?\"-specific style due to the `<a>` HTML tag */\n",
       "\n",
       "#sk-container-id-1 a.estimator_doc_link {\n",
       "  float: right;\n",
       "  font-size: 1rem;\n",
       "  line-height: 1em;\n",
       "  font-family: monospace;\n",
       "  background-color: var(--sklearn-color-background);\n",
       "  border-radius: 1rem;\n",
       "  height: 1rem;\n",
       "  width: 1rem;\n",
       "  text-decoration: none;\n",
       "  /* unfitted */\n",
       "  color: var(--sklearn-color-unfitted-level-1);\n",
       "  border: var(--sklearn-color-unfitted-level-1) 1pt solid;\n",
       "}\n",
       "\n",
       "#sk-container-id-1 a.estimator_doc_link.fitted {\n",
       "  /* fitted */\n",
       "  border: var(--sklearn-color-fitted-level-1) 1pt solid;\n",
       "  color: var(--sklearn-color-fitted-level-1);\n",
       "}\n",
       "\n",
       "/* On hover */\n",
       "#sk-container-id-1 a.estimator_doc_link:hover {\n",
       "  /* unfitted */\n",
       "  background-color: var(--sklearn-color-unfitted-level-3);\n",
       "  color: var(--sklearn-color-background);\n",
       "  text-decoration: none;\n",
       "}\n",
       "\n",
       "#sk-container-id-1 a.estimator_doc_link.fitted:hover {\n",
       "  /* fitted */\n",
       "  background-color: var(--sklearn-color-fitted-level-3);\n",
       "}\n",
       "</style><div id=\"sk-container-id-1\" class=\"sk-top-container\"><div class=\"sk-text-repr-fallback\"><pre>KNeighborsClassifier(n_neighbors=3)</pre><b>In a Jupyter environment, please rerun this cell to show the HTML representation or trust the notebook. <br />On GitHub, the HTML representation is unable to render, please try loading this page with nbviewer.org.</b></div><div class=\"sk-container\" hidden><div class=\"sk-item\"><div class=\"sk-estimator fitted sk-toggleable\"><input class=\"sk-toggleable__control sk-hidden--visually\" id=\"sk-estimator-id-1\" type=\"checkbox\" checked><label for=\"sk-estimator-id-1\" class=\"sk-toggleable__label fitted sk-toggleable__label-arrow fitted\">&nbsp;&nbsp;KNeighborsClassifier<a class=\"sk-estimator-doc-link fitted\" rel=\"noreferrer\" target=\"_blank\" href=\"https://scikit-learn.org/1.4/modules/generated/sklearn.neighbors.KNeighborsClassifier.html\">?<span>Documentation for KNeighborsClassifier</span></a><span class=\"sk-estimator-doc-link fitted\">i<span>Fitted</span></span></label><div class=\"sk-toggleable__content fitted\"><pre>KNeighborsClassifier(n_neighbors=3)</pre></div> </div></div></div></div>"
      ],
      "text/plain": [
       "KNeighborsClassifier(n_neighbors=3)"
      ]
     },
     "execution_count": 20,
     "metadata": {},
     "output_type": "execute_result"
    }
   ],
   "source": [
    "clf_sk = KNeighborsClassifier(n_neighbors=3)\n",
    "clf_sk.fit(X_train, y_train)\n"
   ]
  },
  {
   "cell_type": "code",
   "execution_count": 21,
   "metadata": {
    "ExecuteTime": {
     "end_time": "2024-04-07T02:17:57.603193900Z",
     "start_time": "2024-04-07T02:17:57.440200800Z"
    }
   },
   "outputs": [
    {
     "data": {
      "text/plain": [
       "0.6444444444444445"
      ]
     },
     "execution_count": 21,
     "metadata": {},
     "output_type": "execute_result"
    }
   ],
   "source": [
    "clf_sk.score(X_test, y_test)\n"
   ]
  },
  {
   "cell_type": "code",
   "execution_count": 22,
   "metadata": {
    "ExecuteTime": {
     "end_time": "2024-04-07T02:17:57.604190500Z",
     "start_time": "2024-04-07T02:17:57.456173200Z"
    }
   },
   "outputs": [
    {
     "data": {
      "text/plain": [
       "0.6666666666666666"
      ]
     },
     "execution_count": 22,
     "metadata": {},
     "output_type": "execute_result"
    }
   ],
   "source": [
    "clf_sk = KNeighborsClassifier(n_neighbors=4)\n",
    "clf_sk.fit(X_train, y_train)\n",
    "clf_sk.score(X_test, y_test)\n"
   ]
  },
  {
   "cell_type": "code",
   "execution_count": 23,
   "metadata": {
    "ExecuteTime": {
     "end_time": "2024-04-07T02:17:57.657608100Z",
     "start_time": "2024-04-07T02:17:57.473139400Z"
    }
   },
   "outputs": [
    {
     "data": {
      "text/plain": [
       "0.7111111111111111"
      ]
     },
     "execution_count": 23,
     "metadata": {},
     "output_type": "execute_result"
    }
   ],
   "source": [
    "clf_sk = KNeighborsClassifier(n_neighbors=5)\n",
    "clf_sk.fit(X_train, y_train)\n",
    "clf_sk.score(X_test, y_test)\n"
   ]
  },
  {
   "cell_type": "markdown",
   "metadata": {},
   "source": [
    "自动调参吧，试试循环，找到最优的k值"
   ]
  },
  {
   "cell_type": "code",
   "execution_count": 24,
   "metadata": {
    "ExecuteTime": {
     "end_time": "2024-04-07T02:17:57.658861700Z",
     "start_time": "2024-04-07T02:17:57.489457200Z"
    }
   },
   "outputs": [
    {
     "name": "stdout",
     "output_type": "stream",
     "text": [
      "best_k = 8\n",
      "best_score = 0.7555555555555555\n"
     ]
    }
   ],
   "source": [
    "best_score = 0.0\n",
    "best_k = -1\n",
    "for k in range(1, 11):\n",
    "    knn_clf = KNeighborsClassifier(n_neighbors=k)\n",
    "    knn_clf.fit(X_train, y_train)\n",
    "    score = knn_clf.score(X_test, y_test)\n",
    "    if score > best_score:\n",
    "        best_k = k\n",
    "        best_score = score\n",
    "\n",
    "print(\"best_k = \" + str(best_k))\n",
    "print(\"best_score = \" + str(best_score))\n"
   ]
  },
  {
   "cell_type": "markdown",
   "metadata": {},
   "source": [
    "## KD树的划分和搜索\n",
    "\n",
    "### KD树\n",
    "\n",
    "KD树(K-Dimension Tree)，，也可称之为$k$维树，可以用更高的效率来对空间进行划分，并且其结构非常适合寻找最近邻居和碰撞检测。KD树是一种便于对$k$维空间中的数据进行快速检索的数据结构。KD树是二叉树，表示对$k$维空间的一个划分，其每个结点对应于$k$维空间划分中的一个超矩形区域。利用KD树可以省去对大部分数据点的搜索，从而减少搜索的计算量。\n",
    "\n",
    "KD树是二叉树，表示对𝑘维空间的一个划分(partition)。构造KD树相当于不断地用垂直于坐标轴的超平面将𝑘维空间切分，构成一系列的$k$维超矩形区域。KD树的每个结点对应于一个$k$维超矩形区域。\n",
    "\n",
    "### 构造KD树的方法\n",
    "\n",
    "构造根结点，使根结点对应于$k$维空间中包含所有实例点的超矩形区域；\n",
    "\n",
    "通过下面的递归方法，不断地对$k$维空间进行切分，生成子结点。\n",
    "\n",
    "在超矩形区域(结点)上选择一个坐标轴和在此坐标轴上的一个切分点，确定一个超平面，这个超平面通过选定的切分点并垂直于选定的坐标轴，将当前超矩形区域切分为左右两个子区域(子结点)；\n",
    "\n",
    "这时，实例被分到两个子区域。这个过程直到子区域内没有实例时终止(终止时的结点为叶结点)。\n",
    "\n",
    "在此过程中，将实例保存在相应的结点上。\n",
    "\n",
    "通常，依次选择坐标轴对空间切分，选择训练实例点在选定坐标轴上的中位数(median)为切分点，这样得到的KD树是平衡的。\n",
    "\n",
    "注意，平衡的KD树搜索时的效率未必是最优的。\n",
    "\n",
    "对于构建过程，有两个优化点：\n",
    "\n",
    "1. 选择切分维度\n",
    "\n",
    "根据数据点在各维度上的分布情况，方差越大，分布越分散从方差大的维度开始切分，有较好的切分效果和平衡性。\n",
    "\n",
    "2. 确定中值点\n",
    "\n",
    "预先对原始数据点在所有维度进行一次排序，存储下来，然后在后续的中值选择中，无须每次都对其子集进行排序，提升了性能。也可以从原始数据点中随机选择固定数目的点，然后对其进行排序，每次从这些样本点中取中值，来作为分割超平面。该方式在实践中被证明可以取得很好性能及很好的平衡性。"
   ]
  },
  {
   "cell_type": "code",
   "execution_count": 25,
   "metadata": {
    "ExecuteTime": {
     "end_time": "2024-04-07T02:17:57.658861700Z",
     "start_time": "2024-04-07T02:17:57.518596Z"
    }
   },
   "outputs": [],
   "source": [
    "from collections import namedtuple\n",
    "from pprint import pformat\n",
    "\n",
    "class Node(namedtuple('Node', 'location left_child right_child')):\n",
    "    def __repr__(self):\n",
    "        return pformat(tuple(self))\n"
   ]
  },
  {
   "cell_type": "code",
   "execution_count": 26,
   "metadata": {
    "ExecuteTime": {
     "end_time": "2024-04-07T02:17:57.658861700Z",
     "start_time": "2024-04-07T02:17:57.537049500Z"
    }
   },
   "outputs": [],
   "source": [
    "# kd-tree每个结点中主要包含的数据结构如下\n",
    "class KdNode(object):\n",
    "    def __init__(self, dom_elt, split, left, right):\n",
    "        self.dom_elt = dom_elt  # k维向量节点(k维空间中的一个样本点)\n",
    "        self.split = split  # 整数（进行分割维度的序号）\n",
    "        self.left = left  # 该结点分割超平面左子空间构成的kd-tree\n",
    "        self.right = right  # 该结点分割超平面右子空间构成的kd-tree\n",
    "\n",
    "\n",
    "class KdTreeCreate(object):\n",
    "    def __init__(self, data):\n",
    "        k = len(data[0])  # 数据维度\n",
    "\n",
    "        def CreateNode(split, data_set):  # 按第split维划分数据集exset创建KdNode\n",
    "            if not data_set:  # 数据集为空\n",
    "                return None\n",
    "            # key参数的值为一个函数，此函数只有一个参数且返回一个值用来进行比较\n",
    "            # operator模块提供的itemgetter函数用于获取对象的哪些维的数据，参数为需要获取的数据在对象中的序号\n",
    "            #data_set.sort(key=itemgetter(split)) # 按要进行分割的那一维数据排序\n",
    "            data_set.sort(key=lambda x: x[split])\n",
    "            split_pos = len(data_set) // 2  # //为Python中的整数除法\n",
    "            median = data_set[split_pos]  # 中位数分割点\n",
    "            split_next = (split + 1) % k  # cycle coordinates\n",
    "\n",
    "            # 递归的创建kd树\n",
    "            return KdNode(\n",
    "                median,\n",
    "                split,\n",
    "                CreateNode(split_next, data_set[:split_pos]),  # 创建左子树\n",
    "                CreateNode(split_next, data_set[split_pos + 1:]))  # 创建右子树\n",
    "\n",
    "        self.root = CreateNode(0, data)  # 从第0维分量开始构建kd树,返回根节点\n",
    "\n",
    "# KDTree的前序遍历\n",
    "def preorder(root):\n",
    "    print(root.dom_elt)\n",
    "    if root.left:  # 节点不为空\n",
    "        preorder(root.left)\n",
    "    if root.right:\n",
    "        preorder(root.right)\n"
   ]
  },
  {
   "cell_type": "code",
   "execution_count": 27,
   "metadata": {
    "ExecuteTime": {
     "end_time": "2024-04-07T02:17:57.689321400Z",
     "start_time": "2024-04-07T02:17:57.551017500Z"
    }
   },
   "outputs": [],
   "source": [
    "# 对构建好的kd树进行搜索，寻找与目标点最近的样本点：\n",
    "from math import sqrt\n",
    "from collections import namedtuple\n",
    "\n",
    "# 定义一个namedtuple,分别存放最近坐标点、最近距离和访问过的节点数\n",
    "result = namedtuple(\"Result_tuple\",\n",
    "                    \"nearest_point  nearest_dist  nodes_visited\")\n",
    "\n",
    "\n",
    "def find_nearest(tree, point):\n",
    "    k = len(point)  # 数据维度\n",
    "\n",
    "    def travel(kd_node, target, max_dist):\n",
    "        if kd_node is None:\n",
    "            return result([0] * k, float(\"inf\"),\n",
    "                          0)  # python中用float(\"inf\")和float(\"-inf\")表示正负无穷\n",
    "\n",
    "        nodes_visited = 1\n",
    "\n",
    "        s = kd_node.split  # 进行分割的维度\n",
    "        pivot = kd_node.dom_elt  # 进行分割的“轴”\n",
    "\n",
    "        if target[s] <= pivot[s]:  # 如果目标点第s维小于分割轴的对应值(目标离左子树更近)\n",
    "            nearer_node = kd_node.left  # 下一个访问节点为左子树根节点\n",
    "            further_node = kd_node.right  # 同时记录下右子树\n",
    "        else:  # 目标离右子树更近\n",
    "            nearer_node = kd_node.right  # 下一个访问节点为右子树根节点\n",
    "            further_node = kd_node.left\n",
    "\n",
    "        temp1 = travel(nearer_node, target, max_dist)  # 进行遍历找到包含目标点的区域\n",
    "\n",
    "        nearest = temp1.nearest_point  # 以此叶结点作为“当前最近点”\n",
    "        dist = temp1.nearest_dist  # 更新最近距离\n",
    "\n",
    "        nodes_visited += temp1.nodes_visited\n",
    "\n",
    "        if dist < max_dist:\n",
    "            max_dist = dist  # 最近点将在以目标点为球心，max_dist为半径的超球体内\n",
    "\n",
    "        temp_dist = abs(pivot[s] - target[s])  # 第s维上目标点与分割超平面的距离\n",
    "        if max_dist < temp_dist:  # 判断超球体是否与超平面相交\n",
    "            return result(nearest, dist, nodes_visited)  # 不相交则可以直接返回，不用继续判断\n",
    "\n",
    "        #----------------------------------------------------------------------\n",
    "        # 计算目标点与分割点的欧氏距离\n",
    "        temp_dist = sqrt(sum((p1 - p2)**2 for p1, p2 in zip(pivot, target)))\n",
    "\n",
    "        if temp_dist < dist:  # 如果“更近”\n",
    "            nearest = pivot  # 更新最近点\n",
    "            dist = temp_dist  # 更新最近距离\n",
    "            max_dist = dist  # 更新超球体半径\n",
    "\n",
    "        # 检查另一个子结点对应的区域是否有更近的点\n",
    "        temp2 = travel(further_node, target, max_dist)\n",
    "\n",
    "        nodes_visited += temp2.nodes_visited\n",
    "        if temp2.nearest_dist < dist:  # 如果另一个子结点内存在更近距离\n",
    "            nearest = temp2.nearest_point  # 更新最近点\n",
    "            dist = temp2.nearest_dist  # 更新最近距离\n",
    "\n",
    "        return result(nearest, dist, nodes_visited)\n",
    "\n",
    "    return travel(tree.root, point, float(\"inf\"))  # 从根节点开始递归\n"
   ]
  },
  {
   "cell_type": "code",
   "execution_count": 28,
   "metadata": {
    "ExecuteTime": {
     "end_time": "2024-04-07T02:17:57.696297200Z",
     "start_time": "2024-04-07T02:17:57.565629700Z"
    }
   },
   "outputs": [],
   "source": [
    "from time import process_time\n",
    "from random import random\n",
    "\n",
    "\n",
    "# 产生一个k维随机向量，每维分量值在0~1之间\n",
    "def random_point(k):\n",
    "    return [random() for _ in range(k)]\n",
    "\n",
    "\n",
    "# 产生n个k维随机向量\n",
    "def random_points(k, n):\n",
    "    return [random_point(k) for _ in range(n)]\n"
   ]
  },
  {
   "cell_type": "code",
   "execution_count": 29,
   "metadata": {
    "ExecuteTime": {
     "end_time": "2024-04-07T02:17:59.983596900Z",
     "start_time": "2024-04-07T02:17:57.582232Z"
    }
   },
   "outputs": [
    {
     "name": "stdout",
     "output_type": "stream",
     "text": [
      "time:  3.578125 s\n",
      "Result_tuple(nearest_point=[0.10645371946878812, 0.49940542457138737, 0.8003021806222962], nearest_dist=0.006488091248635144, nodes_visited=47)\n"
     ]
    }
   ],
   "source": [
    "N = 400000\n",
    "t0 = process_time()\n",
    "kd2 = KdTreeCreate(random_points(3, N))  # 构建包含四十万个3维空间样本点的kd树\n",
    "ret2 = find_nearest(kd2, [0.1, 0.5, 0.8])  # 四十万个样本点中寻找离目标最近的点\n",
    "t1 = process_time()\n",
    "print(\"time: \", t1 - t0, \"s\")\n",
    "print(ret2)\n"
   ]
  },
  {
   "cell_type": "markdown",
   "metadata": {},
   "source": [
    "### KD树的绘图代码"
   ]
  },
  {
   "cell_type": "code",
   "execution_count": 30,
   "metadata": {
    "ExecuteTime": {
     "end_time": "2024-04-07T02:18:00.028738200Z",
     "start_time": "2024-04-07T02:17:59.985590Z"
    }
   },
   "outputs": [],
   "source": [
    "from operator import itemgetter\n",
    "\n",
    "def kdtree(point_list, depth=0):\n",
    "    if len(point_list) == 0:\n",
    "        return None\n",
    "    \n",
    "    # 选择“基于深度的轴”，以便轴在所有有效值之间循环\n",
    "    # 只支持二维\n",
    "    axis = depth % 2\n",
    "\n",
    "    # Sort point list and choose median as pivot element\n",
    "    point_list.sort(key=itemgetter(axis))\n",
    "    median = len(point_list) // 2  # 选择中值点\n",
    "    \n",
    "    # 创建节点并构造子树\n",
    "    return Node(\n",
    "        location = point_list[median],\n",
    "        left_child = kdtree(point_list[:median], depth + 1),\n",
    "        right_child = kdtree(point_list[median + 1:], depth + 1)\n",
    "    )\n"
   ]
  },
  {
   "cell_type": "code",
   "execution_count": 31,
   "metadata": {
    "ExecuteTime": {
     "end_time": "2024-04-07T02:18:00.038224600Z",
     "start_time": "2024-04-07T02:17:59.999598200Z"
    }
   },
   "outputs": [],
   "source": [
    "import matplotlib.pyplot as plt\n",
    "\n",
    "# KD树的线宽\n",
    "line_width = [4., 3.5, 3., 2.5, 2., 1.5, 1., .5, 0.3]\n",
    "\n",
    "\n",
    "def plot_tree(tree, min_x, max_x, min_y, max_y, prev_node, branch, depth=0):\n",
    "    \"\"\" plot K-D tree\n",
    "    :param tree      input tree to be plotted\n",
    "    :param min_x\n",
    "    :param max_x\n",
    "    :param min_y\n",
    "    :param max_y\n",
    "    :param prev_node parent's node\n",
    "    :param branch    True if left, False if right\n",
    "    :param depth     tree's depth\n",
    "    :return tree     node\n",
    "    \"\"\"\n",
    "\n",
    "    cur_node = tree.location  # 当前树节点\n",
    "    left_branch = tree.left_child  # 左分支\n",
    "    right_branch = tree.right_child  # 右分支\n",
    "\n",
    "    #根据树的深度设置线条的宽度\n",
    "    if depth > len(line_width) - 1:\n",
    "        ln_width = line_width[len(line_width) - 1]\n",
    "    else:\n",
    "        ln_width = line_width[depth]\n",
    "\n",
    "    k = len(cur_node)\n",
    "    axis = depth % k\n",
    "\n",
    "    # 画垂直分割线\n",
    "    if axis == 0:\n",
    "        if branch is not None and prev_node is not None:\n",
    "            if branch:\n",
    "                max_y = prev_node[1]\n",
    "            else:\n",
    "                min_y = prev_node[1]\n",
    "\n",
    "        plt.plot([cur_node[0], cur_node[0]], [min_y, max_y],\n",
    "                 linestyle='-',\n",
    "                 color='red',\n",
    "                 linewidth=ln_width)\n",
    "\n",
    "    # 画水平分割线\n",
    "    elif axis == 1:\n",
    "        if branch is not None and prev_node is not None:\n",
    "            if branch:\n",
    "                max_x = prev_node[0]\n",
    "            else:\n",
    "                min_x = prev_node[0]\n",
    "\n",
    "        plt.plot([min_x, max_x], [cur_node[1], cur_node[1]],\n",
    "                 linestyle='-',\n",
    "                 color='blue',\n",
    "                 linewidth=ln_width)\n",
    "\n",
    "    # 画当前节点\n",
    "    plt.plot(cur_node[0], cur_node[1], 'ko')\n",
    "\n",
    "    # 绘制当前节点的左分支和右分支\n",
    "    if left_branch is not None:\n",
    "        plot_tree(left_branch, min_x, max_x, min_y, max_y, cur_node, True,\n",
    "                  depth + 1)\n",
    "\n",
    "    if right_branch is not None:\n",
    "        plot_tree(right_branch, min_x, max_x, min_y, max_y, cur_node, False,\n",
    "                  depth + 1)\n"
   ]
  },
  {
   "cell_type": "code",
   "execution_count": 32,
   "metadata": {
    "ExecuteTime": {
     "end_time": "2024-04-07T02:18:00.039221900Z",
     "start_time": "2024-04-07T02:18:00.015062700Z"
    }
   },
   "outputs": [],
   "source": [
    "def create_diagram(tree, width, height, min_val, max_val, delta):\n",
    "    plt.figure(\"Kd Tree\", figsize=(width, height))\n",
    "    plt.axis(\n",
    "        [min_val - delta, max_val + delta, min_val - delta, max_val + delta])\n",
    "\n",
    "    plt.grid(visible=True, which='major', color='0.75', linestyle='--')\n",
    "    plt.xticks([i for i in range(min_val - delta, max_val + delta, 1)])\n",
    "    plt.yticks([i for i in range(min_val - delta, max_val + delta, 1)])\n",
    "\n",
    "    # 画出树\n",
    "    plot_tree(tree, min_val - delta, max_val + delta, min_val - delta,\n",
    "              max_val + delta, None, None)\n",
    "    plt.title('KD Tree')\n"
   ]
  },
  {
   "cell_type": "code",
   "execution_count": 33,
   "metadata": {
    "ExecuteTime": {
     "end_time": "2024-04-07T02:18:00.048699700Z",
     "start_time": "2024-04-07T02:18:00.030733300Z"
    }
   },
   "outputs": [],
   "source": [
    "def label_nodes(node, i):\n",
    "    loc = node.location\n",
    "\n",
    "    plt.text(loc[0] + 0.15, loc[1] + 0.15, str(i), fontsize=10)\n",
    "\n",
    "    if node.left_child:\n",
    "        i = label_nodes(node.left_child, i + 1)\n",
    "\n",
    "    if node.right_child:\n",
    "        i = label_nodes(node.right_child, i + 1)\n",
    "\n",
    "    return i\n"
   ]
  },
  {
   "cell_type": "code",
   "execution_count": 34,
   "metadata": {
    "ExecuteTime": {
     "end_time": "2024-04-07T02:18:00.071169500Z",
     "start_time": "2024-04-07T02:18:00.047699900Z"
    }
   },
   "outputs": [],
   "source": [
    "def draw_target(point, radius):\n",
    "    plt.plot(point[0], point[1], marker='o', color='#ff007f')\n",
    "    circle = plt.Circle(point,\n",
    "                        0.3,\n",
    "                        facecolor='#ff007f',\n",
    "                        edgecolor='#ff007f',\n",
    "                        alpha=0.5)\n",
    "    plt.gca().add_patch(circle)\n",
    "\n",
    "    # 围绕目标点绘制超球体\n",
    "    circle = plt.Circle(point,\n",
    "                        radius,\n",
    "                        facecolor='#ffd83d',\n",
    "                        edgecolor='#ffd83d',\n",
    "                        alpha=0.5)\n",
    "    plt.gca().add_patch(circle)\n"
   ]
  },
  {
   "cell_type": "code",
   "execution_count": 42,
   "metadata": {
    "ExecuteTime": {
     "end_time": "2024-04-07T02:18:00.082640800Z",
     "start_time": "2024-04-07T02:18:00.062683100Z"
    }
   },
   "outputs": [],
   "source": [
    "def draw_neighbors(point_list):\n",
    "    for point in point_list:\n",
    "        # 画出找到的最近的邻居\n",
    "        plt.plot(point[0], point[1], 'go')\n",
    "        circle = plt.Circle(point,\n",
    "                            0.3,\n",
    "                            facecolor='#33cc00',\n",
    "                            edgecolor='#33cc00',\n",
    "                            alpha=0.5)\n",
    "        plt.gca().add_patch(circle)\n"
   ]
  },
  {
   "cell_type": "code",
   "execution_count": 36,
   "metadata": {
    "ExecuteTime": {
     "end_time": "2024-04-07T02:18:00.094118500Z",
     "start_time": "2024-04-07T02:18:00.078652400Z"
    }
   },
   "outputs": [],
   "source": [
    "from graphviz import Digraph\n",
    "\n",
    "\n",
    "def add_node(dot, node, parent_id=None, i=0, edge_label=''):\n",
    "    loc = node.location\n",
    "    node_id = str(i)\n",
    "    dot.node(node_id, f\"{i}\\n({loc[0]},{loc[1]})\")\n",
    "    if parent_id:\n",
    "        dot.edge(parent_id, node_id, label=edge_label)\n",
    "    if node.left_child:\n",
    "        i = add_node(dot, node.left_child, node_id, i + 1, 'l')\n",
    "    if node.right_child:\n",
    "        i = add_node(dot, node.right_child, node_id, i + 1, 'r')\n",
    "    return i\n",
    "\n",
    "\n",
    "def create_graph(tree):\n",
    "    dot = Digraph(comment='Kd-tree')\n",
    "    dot.attr('node',\n",
    "             fontsize='20',\n",
    "             shape='circle',\n",
    "             width='1',\n",
    "             fixedsize='true')\n",
    "    dot.attr('edge', arrowsize='0.7')\n",
    "    add_node(dot, tree)\n",
    "    return dot\n"
   ]
  },
  {
   "cell_type": "code",
   "execution_count": 45,
   "metadata": {
    "ExecuteTime": {
     "end_time": "2024-04-07T02:18:00.157954100Z",
     "start_time": "2024-04-07T02:18:00.093121500Z"
    }
   },
   "outputs": [
    {
     "name": "stdout",
     "output_type": "stream",
     "text": [
      "((6, 4),\n",
      " ((4, 5), ((2, 3), None, None), ((5, 7), None, None)),\n",
      " ((9, 6), ((7, 2), None, None), None))\n"
     ]
    },
    {
     "data": {
      "image/png": "[encoded data removed]",
      "text/plain": [
       "<Figure size 640x480 with 1 Axes>"
      ]
     },
     "metadata": {},
     "output_type": "display_data"
    }
   ],
   "source": [
    "# point_list = [[2,3],[5,7],[9,6],[4,5],[6,4],[7,2]]\n",
    "point_list1 = [(2,3),(5,7),(9,6),(4,5),(6,4),(7,2)]\n",
    "from graphviz import Digraph\n",
    "\n",
    "\n",
    "def add_node(dot, node, parent_id=None, i=0, edge_label=''):\n",
    "    loc = node.location\n",
    "    node_id = str(i)\n",
    "    dot.node(node_id, f\"{i}\\n({loc[0]},{loc[1]})\")\n",
    "    if parent_id:\n",
    "        dot.edge(parent_id, node_id, label=edge_label)\n",
    "    if node.left_child:\n",
    "        i = add_node(dot, node.left_child, node_id, i + 1, 'l')\n",
    "    if node.right_child:\n",
    "        i = add_node(dot, node.right_child, node_id, i + 1, 'r')\n",
    "    return i\n",
    "\n",
    "\n",
    "def create_graph(tree):\n",
    "    dot = Digraph(comment='Kd-tree')\n",
    "    dot.attr('node',\n",
    "             fontsize='20',\n",
    "             shape='circle',\n",
    "             width='1',\n",
    "             fixedsize='true')\n",
    "    dot.attr('edge', arrowsize='0.7')\n",
    "    add_node(dot, tree)\n",
    "    return dot\n",
    "\n",
    "\n",
    "tree = kdtree(point_list1)\n",
    "print(tree)\n",
    "create_graph(tree)\n",
    "\n",
    "draw_neighbors(point_list1)\n",
    "draw_target((2,3),2)\n"
   ]
  },
  {
   "cell_type": "code",
   "execution_count": 38,
   "metadata": {
    "ExecuteTime": {
     "end_time": "2024-04-07T02:18:00.200226700Z",
     "start_time": "2024-04-07T02:18:00.156454400Z"
    }
   },
   "outputs": [],
   "source": [
    "max_int = 10000000\n",
    "min_int = -max_int - 1\n",
    "max_float = float('inf')\n"
   ]
  },
  {
   "cell_type": "code",
   "execution_count": 39,
   "metadata": {
    "ExecuteTime": {
     "end_time": "2024-04-07T02:18:00.204208600Z",
     "start_time": "2024-04-07T02:18:00.171599100Z"
    }
   },
   "outputs": [],
   "source": [
    "def get_val_range(point_list):\n",
    "    min_val = max_int\n",
    "    max_val = -max_int - 1\n",
    "    for point in point_list:\n",
    "        min_v = min(point)\n",
    "        if min_v < min_val:\n",
    "            min_val = min_v\n",
    "        max_v = max(point)\n",
    "        if max_v > max_val:\n",
    "            max_val = max_v\n",
    "    return (min_val, max_val)\n"
   ]
  },
  {
   "cell_type": "code",
   "execution_count": 40,
   "metadata": {
    "ExecuteTime": {
     "end_time": "2024-04-07T02:18:00.205205500Z",
     "start_time": "2024-04-07T02:18:00.187069500Z"
    }
   },
   "outputs": [],
   "source": [
    "min_val, max_val=get_val_range(point_list1)\n"
   ]
  },
  {
   "cell_type": "code",
   "execution_count": 41,
   "metadata": {
    "ExecuteTime": {
     "end_time": "2024-04-07T02:18:00.284132700Z",
     "start_time": "2024-04-07T02:18:00.202215800Z"
    }
   },
   "outputs": [
    {
     "data": {
      "image/png": "[encoded data removed]",
      "text/plain": [
       "<Figure size 800x800 with 1 Axes>"
      ]
     },
     "metadata": {},
     "output_type": "display_data"
    }
   ],
   "source": [
    "create_diagram(tree, 8., 8., min_val, max_val, 1)\n",
    "label_nodes(tree, 0)\n",
    "plt.show()\n"
   ]
  },
  {
   "cell_type": "markdown",
   "metadata": {},
   "source": [
    "## 参考\n",
    "[1] Andrew Ng. Machine Learning[EB/OL]. StanfordUniversity,2014.https://www.coursera.org/course/ml\n",
    "\n",
    "[2] 李航. 统计学习方法[M]. 北京: 清华大学出版社,2019."
   ]
  }
 ],
 "metadata": {
  "kernelspec": {
   "display_name": "Python 3 (ipykernel)",
   "language": "python",
   "name": "python3"
  },
  "language_info": {
   "codemirror_mode": {
    "name": "ipython",
    "version": 3
   },
   "file_extension": ".py",
   "mimetype": "text/x-python",
   "name": "python",
   "nbconvert_exporter": "python",
   "pygments_lexer": "ipython3",
   "version": "3.10.13"
  }
 },
 "nbformat": 4,
 "nbformat_minor": 2
}
