{
 "cells": [
  {
   "cell_type": "markdown",
   "metadata": {},
   "source": [
    "# 机器学习练习-KNN算法"
   ]
  },
  {
   "cell_type": "markdown",
   "metadata": {},
   "source": [
    "1．$k$近邻法是基本且简单的分类与回归方法。$k$近邻法的基本做法是：对给定的训练实例点和输入实例点，首先确定输入实例点的$k$个最近邻训练实例点，然后利用这$k$个训练实例点的类的多数来预测输入实例点的类。\n",
    "\n",
    "2．$k$近邻模型对应于基于训练数据集对特征空间的一个划分。$k$近邻法中，当训练集、距离度量、$k$值及分类决策规则确定后，其结果唯一确定。\n",
    "\n",
    "3．$k$近邻法三要素：距离度量、$k$值的选择和分类决策规则。常用的距离度量是欧氏距离及更一般的**pL**距离。$k$值小时，$k$近邻模型更复杂；$k$值大时，$k$近邻模型更简单。$k$值的选择反映了对近似误差与估计误差之间的权衡，通常由交叉验证选择最优的$k$。\n",
    "\n",
    "常用的分类决策规则是多数表决，对应于经验风险最小化。\n",
    "\n",
    "4．$k$近邻法的实现需要考虑如何快速搜索k个最近邻点。**kd**树是一种便于对k维空间中的数据进行快速检索的数据结构。kd树是二叉树，表示对$k$维空间的一个划分，其每个结点对应于$k$维空间划分中的一个超矩形区域。利用**kd**树可以省去对大部分数据点的搜索， 从而减少搜索的计算量。"
   ]
  },
  {
   "cell_type": "markdown",
   "metadata": {},
   "source": [
    "## 1.距离度量"
   ]
  },
  {
   "cell_type": "markdown",
   "metadata": {},
   "source": [
    "在机器学习算法中，我们经常需要计算样本之间的相似度，通常的做法是计算样本之间的距离。\n",
    "\n",
    "设$x$和$y$为两个向量，求它们之间的距离。\n",
    "\n",
    "这里用Numpy实现，设和为`ndarray <numpy.ndarray>`，它们的shape都是`(N,)`\n",
    "\n",
    "$d$为所求的距离，是个浮点数（`float`）。"
   ]
  },
  {
   "cell_type": "code",
   "execution_count": null,
   "metadata": {
    "ExecuteTime": {
     "end_time": "2024-04-07T02:17:57.182662500Z",
     "start_time": "2024-04-07T02:17:57.062406600Z"
    }
   },
   "outputs": [],
   "source": [
    "import numpy as np  #注意：运行代码时候需要导入NumPy库。\n"
   ]
  },
  {
   "cell_type": "markdown",
   "metadata": {},
   "source": [
    "### 欧氏距离(Euclidean distance)\n",
    "\n",
    "欧几里得度量(euclidean metric)(也称欧氏距离)是一个通常采用的距离定义，指在$m$维空间中两个点之间的真实距离，或者向量的自然长度(即该点到原点的距离)。在二维和三维空间中的欧氏距离就是两点之间的实际距离。\n",
    "\n",
    "距离公式：\n",
    "\n",
    "$$\n",
    "d\\left( x,y \\right) = \\sqrt{\\sum_{i}^{}(x_{i} - y_{i})^{2}}\n",
    "$$\n",
    "\n",
    "![img](images/16333182861.jpg)\n",
    "\n",
    "\n",
    "\n",
    "代码实现："
   ]
  },
  {
   "cell_type": "code",
   "execution_count": null,
   "metadata": {
    "ExecuteTime": {
     "end_time": "2024-04-07T02:17:57.325896900Z",
     "start_time": "2024-04-07T02:17:57.081373800Z"
    }
   },
   "outputs": [],
   "source": [
    "def euclidean(x, y):\n",
    "\n",
    "    return np.sqrt(np.sum((x - y)**2))\n"
   ]
  },
  {
   "cell_type": "markdown",
   "metadata": {},
   "source": [
    "### 曼哈顿距离(Manhattan distance)\n",
    "\n",
    "想象你在城市道路里，要从一个十字路口开车到另外一个十字路口，驾驶距离是两点间的直线距离吗？显然不是，除非你能穿越大楼。实际驾驶距离就是这个“曼哈顿距离”。而这也是曼哈顿距离名称的来源，曼哈顿距离也称为城市街区距离(City Block distance)。\n",
    "\n",
    "距离公式：\n",
    "\n",
    "$$\n",
    "d(x,y) = \\sum_{i}^{}|x_{i} - y_{i}|\n",
    "$$\n",
    "\n",
    "![](images/638038949250eedd844a38a93a76f66b.png)\n",
    "\n",
    "\n",
    "\n",
    "代码实现："
   ]
  },
  {
   "cell_type": "code",
   "execution_count": null,
   "metadata": {
    "ExecuteTime": {
     "end_time": "2024-04-07T02:17:57.351356900Z",
     "start_time": "2024-04-07T02:17:57.095828100Z"
    }
   },
   "outputs": [],
   "source": [
    "def manhattan(x, y):\n",
    "\n",
    "    return np.sum(np.abs(x - y))\n"
   ]
  },
  {
   "cell_type": "markdown",
   "metadata": {},
   "source": [
    "### 切比雪夫距离(Chebyshev distance)\n",
    "\n",
    "在数学中，切比雪夫距离(Chebyshev distance)或是L∞度量，是向量空间中的一种度量，二个点之间的距离定义是其各坐标数值差绝对值的最大值。以数学的观点来看，切比雪夫距离是由一致范数(uniform norm)(或称为上确界范数)所衍生的度量，也是超凸度量(injective metric space)的一种。\n",
    "\n",
    "距离公式："
   ]
  },
  {
   "cell_type": "markdown",
   "metadata": {},
   "source": [
    "$$\n",
    "d\\left( x,y \\right) = \\max_{i}\\left| x_{i} - y_{i} \\right|\n",
    "$$\n",
    "\n",
    "![](images/c7e66b17c54eb109e6474a2d93a877f1.jpg)\n",
    "\n",
    "\n",
    "若将国际象棋棋盘放在二维直角座标系中，格子的边长定义为1，座标的$x$轴及$y$轴和棋盘方格平行，原点恰落在某一格的中心点，则王从一个位置走到其他位置需要的步数恰为二个位置的切比雪夫距离，因此切比雪夫距离也称为棋盘距离。例如位置F6和位置E2的切比雪夫距离为4。任何一个不在棋盘边缘的位置，和周围八个位置的切比雪夫距离都是1。\n",
    "\n",
    "代码实现："
   ]
  },
  {
   "cell_type": "code",
   "execution_count": null,
   "metadata": {
    "ExecuteTime": {
     "end_time": "2024-04-07T02:17:57.387288400Z",
     "start_time": "2024-04-07T02:17:57.112796900Z"
    }
   },
   "outputs": [],
   "source": [
    "def chebyshev(x, y):\n",
    "\n",
    "    return np.max(np.abs(x - y))\n"
   ]
  },
  {
   "cell_type": "markdown",
   "metadata": {},
   "source": [
    "### 闵可夫斯基距离(Minkowski distance)\n",
    "\n",
    "闵氏空间指狭义相对论中由一个时间维和三个空间维组成的时空，为俄裔德国数学家闵可夫斯基(H.Minkowski,1864-1909)最先表述。他的平坦空间(即假设没有重力，曲率为零的空间)的概念以及表示为特殊距离量的几何学是与狭义相对论的要求相一致的。闵可夫斯基空间不同于牛顿力学的平坦空间。$p$取1或2时的闵氏距离是最为常用的，$p= 2$即为欧氏距离，而$p =1$时则为曼哈顿距离。\n",
    "\n",
    "当$p$取无穷时的极限情况下，可以得到切比雪夫距离。\n",
    "\n",
    "距离公式：\n",
    "\n",
    "$$\n",
    "d\\left( x,y \\right) = \\left( \\sum_{i}^{}|x_{i} - y_{i}|^{p} \\right)^{\\frac{1}{p}}\n",
    "$$\n",
    "\n",
    "代码实现："
   ]
  },
  {
   "cell_type": "code",
   "execution_count": null,
   "metadata": {
    "ExecuteTime": {
     "end_time": "2024-04-07T02:17:57.425221700Z",
     "start_time": "2024-04-07T02:17:57.127266200Z"
    }
   },
   "outputs": [],
   "source": [
    "def minkowski(x, y, p):\n",
    "\n",
    "    return np.sum(np.abs(x - y)**p)**(1 / p)\n"
   ]
  },
  {
   "cell_type": "markdown",
   "metadata": {},
   "source": [
    "### 汉明距离(Hamming distance)\n",
    "\n",
    "汉明距离是使用在数据传输差错控制编码里面的，汉明距离是一个概念，它表示两个(相同长度)字对应位不同的数量，我们以表示两个字,之间的汉明距离。对两个字符串进行异或运算，并统计结果为1的个数，那么这个数就是汉明距离。\n",
    "\n",
    "距离公式：\n",
    "\n",
    "$$\n",
    "d\\left( x,y \\right) = \\frac{1}{N}\\sum_{i}^{}1_{x_{i} \\neq y_{i}}\n",
    "$$\n",
    "\n",
    "![](images/5ef40ff2f81af854180751680fb334fd.jpg)\n",
    "\n",
    "\n",
    "代码实现："
   ]
  },
  {
   "cell_type": "code",
   "execution_count": null,
   "metadata": {
    "ExecuteTime": {
     "end_time": "2024-04-07T02:17:57.470149200Z",
     "start_time": "2024-04-07T02:17:57.143239500Z"
    }
   },
   "outputs": [],
   "source": [
    "def hamming(x, y):\n",
    "\n",
    "    return np.sum(x != y) / len(x)\n"
   ]
  },
  {
   "cell_type": "markdown",
   "metadata": {},
   "source": [
    "### 余弦相似度(Cosine Similarity)\n",
    "\n",
    "余弦相似性通过测量两个向量的夹角的余弦值来度量它们之间的相似性。0度角的余弦值是1，而其他任何角度的余弦值都不大于1；并且其最小值是-1。从而两个向量之间的角度的余弦值确定两个向量是否大致指向相同的方向。两个向量有相同的指向时，余弦相似度的值为1；两个向量夹角为90°时，余弦相似度的值为0；两个向量指向完全相反的方向时，余弦相似度的值为-1。这结果是与向量的长度无关的，仅仅与向量的指向方向相关。余弦相似度通常用于正空间，因此给出的值为0到1之间。\n",
    "\n",
    "![ ](images/61876887fce99b1e847ad72531f3b650.jpg)\n",
    "\n",
    "\n",
    "\n",
    "二维空间为例，上图的$a$和$b$是两个向量，我们要计算它们的夹角θ。余弦定理告诉我们，可以用下面的公式求得：\n",
    "\n",
    "$$\n",
    "\\cos\\theta = \\frac{a^{2} + b^{2} - c^{2}}{2ab}\n",
    "$$\n",
    "\n",
    "假定$a$向量是$\\left\\lbrack x_{1},y_{1}\n",
    "\\right\\rbrack$，$b$向量是$\\left\\lbrack x_{2},y_{2}\n",
    "\\right\\rbrack$，两个向量间的余弦值可以通过使用欧几里得点积公式求出：\n",
    "\n",
    "$$\n",
    "\\cos\\left( \\theta \\right) = \\frac{A \\cdot B}{\\parallel A \\parallel \\parallel B \\parallel} = \\frac{\\sum_{i = 1}^{n}A_{i} \\times B_{i}}{\\sqrt{\\sum_{i = 1}^{n}(A_{i})^{2} \\times \\sqrt{\\sum_{i = 1}^{n}(B_{i})^{2}}}}\n",
    "$$\n",
    "\n",
    "$$\n",
    "\\cos\\left( \\theta \\right) = \\frac{A \\cdot B}{\\parallel A \\parallel \\parallel B \\parallel} = \\frac{\\left( x_{1},y_{1} \\right) \\cdot \\left( x_{2},y_{2} \\right)}{\\sqrt{x_{1}^{2} + y_{1}^{2}} \\times \\sqrt{x_{2}^{2} + y_{2}^{2}}} = \\frac{x_{1}x_{2} + y_{1}y_{2}}{\\sqrt{x_{1}^{2} + y_{1}^{2}} \\times \\sqrt{x_{2}^{2} + y_{2}^{2}}}\n",
    "$$\n",
    "\n",
    "如果向量$a$和$b$不是二维而是$n$维，上述余弦的计算法仍然正确。假定$A$和$B$是两个$n$维向量，$A$是$\\left\\lbrack\n",
    "A_{1},A_{2},\\ldots,A_{n} \\right\\rbrack$，$B$是$\\left\\lbrack\n",
    "B_{1},B_{2},\\ldots,B_{n} \\right\\rbrack$，则$A$与$B$的夹角余弦等于：\n",
    "\n",
    "$$\n",
    "\\cos\\left( \\theta \\right) = \\frac{A \\cdot B}{\\parallel A \\parallel \\parallel B \\parallel} = \\frac{\\sum_{i = 1}^{n}A_{i} \\times B_{i}}{\\sqrt{\\sum_{i = 1}^{n}(A_{i})^{2}} \\times \\sqrt{\\sum_{i = 1}^{n}(B_{i})^{2}}}\n",
    "$$\n",
    "\n",
    "![](images/713ca7c3b9047e27166244a0f047ffe7.jpg)\n",
    "\n",
    "代码实现："
   ]
  },
  {
   "cell_type": "code",
   "execution_count": null,
   "metadata": {
    "ExecuteTime": {
     "end_time": "2024-04-07T02:17:57.482615200Z",
     "start_time": "2024-04-07T02:17:57.158716600Z"
    }
   },
   "outputs": [],
   "source": [
    "from math import *\n",
    "\n",
    "def square_rooted(x):\n",
    "\n",
    "    return round(sqrt(sum([a*a for a in x])),3)\n"
   ]
  },
  {
   "cell_type": "code",
   "execution_count": null,
   "metadata": {
    "ExecuteTime": {
     "end_time": "2024-04-07T02:17:57.484608700Z",
     "start_time": "2024-04-07T02:17:57.175179900Z"
    }
   },
   "outputs": [],
   "source": [
    "def cosine_similarity(x, y):\n",
    "\n",
    "    numerator = sum(a * b for a, b in zip(x, y))\n",
    "    denominator = square_rooted(x) * square_rooted(y)\n",
    "    return round(numerator / float(denominator), 3)\n"
   ]
  },
  {
   "cell_type": "code",
   "execution_count": null,
   "metadata": {
    "ExecuteTime": {
     "end_time": "2024-04-07T02:17:57.484608700Z",
     "start_time": "2024-04-07T02:17:57.191152200Z"
    }
   },
   "outputs": [],
   "source": [
    "print(cosine_similarity([3, 45, 7, 2], [2, 54, 13, 15]))\n"
   ]
  },
  {
   "cell_type": "markdown",
   "metadata": {},
   "source": [
    "## KNN算法"
   ]
  },
  {
   "cell_type": "markdown",
   "metadata": {},
   "source": [
    "1．$k$近邻法是基本且简单的分类与回归方法。$k$近邻法的基本做法是：对给定的训练实例点和输入实例点，首先确定输入实例点的$k$个最近邻训练实例点，然后利用这$k$个训练实例点的类的多数来预测输入实例点的类。\n",
    "\n",
    "2．$k$近邻模型对应于基于训练数据集对特征空间的一个划分。$k$近邻法中，当训练集、距离度量、$k$值及分类决策规则确定后，其结果唯一确定。\n",
    "\n",
    "3．$k$近邻法三要素：距离度量、$k$值的选择和分类决策规则。常用的距离度量是欧氏距离。$k$值小时，$k$近邻模型更复杂；$k$值大时，$k$近邻模型更简单。$k$值的选择反映了对近似误差与估计误差之间的权衡，通常由交叉验证选择最优的$k$。\n",
    "\n",
    "常用的分类决策规则是多数表决，对应于经验风险最小化。\n",
    "\n",
    "4．$k$近邻法的实现需要考虑如何快速搜索k个最近邻点。**kd**树是一种便于对k维空间中的数据进行快速检索的数据结构。kd树是二叉树，表示对$k$维空间的一个划分，其每个结点对应于$k$维空间划分中的一个超矩形区域。利用**kd**树可以省去对大部分数据点的搜索， 从而减少搜索的计算量。"
   ]
  },
  {
   "cell_type": "markdown",
   "metadata": {},
   "source": [
    "python实现，遍历所有数据点，找出$n$个距离最近的点的分类情况，少数服从多数"
   ]
  },
  {
   "cell_type": "code",
   "execution_count": null,
   "metadata": {
    "ExecuteTime": {
     "end_time": "2024-04-07T02:17:57.484608700Z",
     "start_time": "2024-04-07T02:17:57.205611500Z"
    }
   },
   "outputs": [],
   "source": [
    "import numpy as np\n",
    "import pandas as pd\n",
    "import matplotlib.pyplot as plt\n",
    "from sklearn.datasets import load_iris\n",
    "from sklearn.model_selection import train_test_split\n",
    "from collections import Counter\n"
   ]
  },
  {
   "cell_type": "markdown",
   "metadata": {},
   "source": [
    "导入鸢尾花数据集"
   ]
  },
  {
   "cell_type": "code",
   "execution_count": null,
   "metadata": {
    "ExecuteTime": {
     "end_time": "2024-04-07T02:17:57.484608700Z",
     "start_time": "2024-04-07T02:17:57.221582100Z"
    }
   },
   "outputs": [],
   "source": [
    "iris = load_iris()\n",
    "df = pd.DataFrame(iris.data, columns=iris.feature_names)\n",
    "df['label'] = iris.target\n",
    "df.columns = ['sepal length', 'sepal width', 'petal length', 'petal width', 'label']\n"
   ]
  },
  {
   "cell_type": "code",
   "execution_count": null,
   "metadata": {
    "ExecuteTime": {
     "end_time": "2024-04-07T02:17:57.485605900Z",
     "start_time": "2024-04-07T02:17:57.237049100Z"
    }
   },
   "outputs": [],
   "source": [
    "df.head()\n"
   ]
  },
  {
   "cell_type": "markdown",
   "metadata": {},
   "source": [
    "选择长和宽的数据进行可视化"
   ]
  },
  {
   "cell_type": "code",
   "execution_count": null,
   "metadata": {
    "ExecuteTime": {
     "end_time": "2024-04-07T02:17:57.485605900Z",
     "start_time": "2024-04-07T02:17:57.252098200Z"
    }
   },
   "outputs": [],
   "source": [
    "plt.figure(figsize=(12, 8))\n",
    "plt.scatter(df[:50]['sepal length'], df[:50]['sepal width'], label='0')\n",
    "plt.scatter(df[50:100]['sepal length'], df[50:100]['sepal width'], label='1')\n",
    "plt.xlabel('sepal length', fontsize=18)\n",
    "plt.ylabel('sepal width', fontsize=18)\n",
    "plt.legend()\n",
    "plt.show()\n"
   ]
  },
  {
   "cell_type": "markdown",
   "metadata": {},
   "source": [
    "### Numpy实现"
   ]
  },
  {
   "cell_type": "code",
   "execution_count": null,
   "metadata": {
    "ExecuteTime": {
     "end_time": "2024-04-07T02:17:57.498934Z",
     "start_time": "2024-04-07T02:17:57.333387Z"
    }
   },
   "outputs": [],
   "source": [
    "class KNN:\n",
    "\n",
    "    def __init__(self, X_train, y_train, n_neighbors=3, p=2):\n",
    "        \"\"\"\n",
    "        parameter: n_neighbors 临近点个数\n",
    "        parameter: p 距离度量\n",
    "        \"\"\"\n",
    "        self.n = n_neighbors\n",
    "        self.p = p\n",
    "        self.X_train = X_train\n",
    "        self.y_train = y_train\n",
    "\n",
    "    # 对给定的输入数据进行预测\n",
    "    def predict(self, X):\n",
    "        # 取出n个点\n",
    "        knn_list = []\n",
    "        for i in range(self.n):\n",
    "            # 计算输入数据和训练样本之间的距离\n",
    "            dist = np.linalg.norm(X - self.X_train[i], ord=self.p)\n",
    "            # 将距离和对应的训练样本标签添加到knn_list中\n",
    "            knn_list.append((dist, self.y_train[i]))\n",
    "\n",
    "        # 对于训练集中不在前n个最近邻中的样本，找到距离最近的前n个邻居中出现次数最多的类别\n",
    "        for i in range(self.n, len(self.X_train)):\n",
    "            # 找到距离最大的点的索引\n",
    "            max_index = knn_list.index(max(knn_list, key=lambda x: x[0]))\n",
    "            # 计算输入数据和训练样本之间的距离\n",
    "            dist = np.linalg.norm(X - self.X_train[i], ord=self.p)\n",
    "            # 如果当前样本的距离比最大距离小，则替换最大距离的样本\n",
    "            if knn_list[max_index][0] > dist:\n",
    "                knn_list[max_index] = (dist, self.y_train[i])\n",
    "\n",
    "        # 统计每个类别的出现次数\n",
    "        knn = [k[-1] for k in knn_list]\n",
    "        count_pairs = Counter(knn)\n",
    "        # 找到出现次数最多的类别\n",
    "        max_count = sorted(count_pairs.items(), key=lambda x: x[1])[-1][0]\n",
    "        return max_count\n",
    "\n",
    "    def score(self, X_test, y_test):\n",
    "        right_count = 0  # 初始化正确预测的数量为0\n",
    "        n = 10  # 设置每个样本最多考虑的最近邻居数量为10\n",
    "        for X, y in zip(X_test, y_test):  # 对于测试集中的每一个样本和标签\n",
    "            label = self.predict(X)  # 使用模型进行预测\n",
    "            if label == y:  # 如果预测结果与真实标签相同\n",
    "                right_count += 1  # 则正确预测的数量加1\n",
    "        return right_count / len(X_test)  # 返回模型在测试集上的准确率\n"
   ]
  },
  {
   "cell_type": "code",
   "execution_count": null,
   "metadata": {
    "ExecuteTime": {
     "end_time": "2024-04-07T02:17:57.599205600Z",
     "start_time": "2024-04-07T02:17:57.347358300Z"
    }
   },
   "outputs": [],
   "source": [
    "data = np.array(df.iloc[:150, [0, 1, -1]])\n",
    "X, y = data[:,:-1], data[:,-1]\n",
    "X_train, X_test, y_train, y_test = train_test_split(X, y, test_size=0.3)\n"
   ]
  },
  {
   "cell_type": "code",
   "execution_count": null,
   "metadata": {
    "ExecuteTime": {
     "end_time": "2024-04-07T02:17:57.599205600Z",
     "start_time": "2024-04-07T02:17:57.361348800Z"
    },
    "scrolled": true
   },
   "outputs": [],
   "source": [
    "clf = KNN(X_train, y_train)\n"
   ]
  },
  {
   "cell_type": "code",
   "execution_count": null,
   "metadata": {
    "ExecuteTime": {
     "end_time": "2024-04-07T02:17:57.601200700Z",
     "start_time": "2024-04-07T02:17:57.377310600Z"
    }
   },
   "outputs": [],
   "source": [
    "clf.score(X_test, y_test)\n"
   ]
  },
  {
   "cell_type": "code",
   "execution_count": null,
   "metadata": {
    "ExecuteTime": {
     "end_time": "2024-04-07T02:17:57.601200700Z",
     "start_time": "2024-04-07T02:17:57.393774600Z"
    }
   },
   "outputs": [],
   "source": [
    "test_point = [6.0, 3.0]\n",
    "print('Test Point: {}'.format(clf.predict(test_point)))\n"
   ]
  },
  {
   "cell_type": "markdown",
   "metadata": {},
   "source": [
    "### Scikit-learn实例\n",
    "#### sklearn.neighbors.KNeighborsClassifier\n",
    "\n",
    "- n_neighbors: 临近点个数，即k的个数，默认是5\n",
    "- p: 距离度量，默认\n",
    "- algorithm: 近邻算法，可选{'auto', 'ball_tree', 'kd_tree', 'brute'}\n",
    "- weights: 确定近邻的权重\n",
    "\n",
    "- n_neighbors ： int，optional(default = 5)\n",
    "默认情况下kneighbors查询使用的邻居数。就是k-NN的k的值，选取最近的k个点。\n",
    "\n",
    "- weights ： str或callable，可选(默认=‘uniform’)\n",
    "默认是uniform，参数可以是uniform、distance，也可以是用户自己定义的函数。uniform是均等的权重，就说所有的邻近点的权重都是相等的。distance是不均等的权重，距离近的点比距离远的点的影响大。用户自定义的函数，接收距离的数组，返回一组维数相同的权重。\n",
    "- algorithm ： {‘auto’，‘ball_tree’，‘kd_tree’，‘brute’}，可选\n",
    "快速k近邻搜索算法，默认参数为auto，可以理解为算法自己决定合适的搜索算法。除此之外，用户也可以自己指定搜索算法ball_tree、kd_tree、brute方法进行搜索，brute是蛮力搜索，也就是线性扫描，当训练集很大时，计算非常耗时。kd_tree，构造kd树存储数据以便对其进行快速检索的树形数据结构，kd树也就是数据结构中的二叉树。以中值切分构造的树，每个结点是一个超矩形，在维数小于20时效率高。ball tree是为了克服kd树高纬失效而发明的，其构造过程是以质心C和半径r分割样本空间，每个节点是一个超球体。\n",
    "\n",
    "- leaf_size ： int，optional(默认值= 30)\n",
    "默认是30，这个是构造的kd树和ball树的大小。这个值的设置会影响树构建的速度和搜索速度，同样也影响着存储树所需的内存大小。需要根据问题的性质选择最优的大小。\n",
    "\n",
    "- p ： 整数，可选(默认= 2)\n",
    "距离度量公式。在上小结，我们使用欧氏距离公式进行距离度量。除此之外，还有其他的度量方法，例如曼哈顿距离。这个参数默认为2，也就是默认使用欧式距离公式进行距离度量。也可以设置为1，使用曼哈顿距离公式进行距离度量。\n",
    "\n",
    "- metric ： 字符串或可调用，默认为’minkowski’\n",
    "用于距离度量，默认度量是minkowski，也就是p=2的欧氏距离(欧几里德度量)。\n",
    "\n",
    "- metric_params ： dict，optional(默认=None)\n",
    "距离公式的其他关键参数，这个可以不管，使用默认的None即可。\n",
    "\n",
    "- n_jobs ： int或None，可选(默认=None)\n",
    "并行处理设置。默认为1，临近点搜索并行工作数。如果为-1，那么CPU的所有cores都用于并行工作。"
   ]
  },
  {
   "cell_type": "code",
   "execution_count": null,
   "metadata": {
    "ExecuteTime": {
     "end_time": "2024-04-07T02:17:57.601200700Z",
     "start_time": "2024-04-07T02:17:57.409755Z"
    }
   },
   "outputs": [],
   "source": [
    "from sklearn.neighbors import KNeighborsClassifier\n"
   ]
  },
  {
   "cell_type": "markdown",
   "metadata": {},
   "source": [
    "不同k(n_neighbors)值下的结果："
   ]
  },
  {
   "cell_type": "code",
   "execution_count": null,
   "metadata": {
    "ExecuteTime": {
     "end_time": "2024-04-07T02:17:57.602197100Z",
     "start_time": "2024-04-07T02:17:57.425221700Z"
    }
   },
   "outputs": [],
   "source": [
    "clf_sk = KNeighborsClassifier(n_neighbors=3)\n",
    "clf_sk.fit(X_train, y_train)\n"
   ]
  },
  {
   "cell_type": "code",
   "execution_count": null,
   "metadata": {
    "ExecuteTime": {
     "end_time": "2024-04-07T02:17:57.603193900Z",
     "start_time": "2024-04-07T02:17:57.440200800Z"
    }
   },
   "outputs": [],
   "source": [
    "clf_sk.score(X_test, y_test)\n"
   ]
  },
  {
   "cell_type": "code",
   "execution_count": null,
   "metadata": {
    "ExecuteTime": {
     "end_time": "2024-04-07T02:17:57.604190500Z",
     "start_time": "2024-04-07T02:17:57.456173200Z"
    }
   },
   "outputs": [],
   "source": [
    "clf_sk = KNeighborsClassifier(n_neighbors=4)\n",
    "clf_sk.fit(X_train, y_train)\n",
    "clf_sk.score(X_test, y_test)\n"
   ]
  },
  {
   "cell_type": "code",
   "execution_count": null,
   "metadata": {
    "ExecuteTime": {
     "end_time": "2024-04-07T02:17:57.657608100Z",
     "start_time": "2024-04-07T02:17:57.473139400Z"
    }
   },
   "outputs": [],
   "source": [
    "clf_sk = KNeighborsClassifier(n_neighbors=5)\n",
    "clf_sk.fit(X_train, y_train)\n",
    "clf_sk.score(X_test, y_test)\n"
   ]
  },
  {
   "cell_type": "markdown",
   "metadata": {},
   "source": [
    "自动调参吧，试试循环，找到最优的k值"
   ]
  },
  {
   "cell_type": "code",
   "execution_count": null,
   "metadata": {
    "ExecuteTime": {
     "end_time": "2024-04-07T02:17:57.658861700Z",
     "start_time": "2024-04-07T02:17:57.489457200Z"
    }
   },
   "outputs": [],
   "source": [
    "best_score = 0.0\n",
    "best_k = -1\n",
    "for k in range(1, 11):\n",
    "    knn_clf = KNeighborsClassifier(n_neighbors=k)\n",
    "    knn_clf.fit(X_train, y_train)\n",
    "    score = knn_clf.score(X_test, y_test)\n",
    "    if score > best_score:\n",
    "        best_k = k\n",
    "        best_score = score\n",
    "\n",
    "print(\"best_k = \" + str(best_k))\n",
    "print(\"best_score = \" + str(best_score))\n"
   ]
  },
  {
   "cell_type": "markdown",
   "metadata": {},
   "source": [
    "## KD树的划分和搜索\n",
    "\n",
    "### KD树\n",
    "\n",
    "KD树(K-Dimension Tree)，，也可称之为$k$维树，可以用更高的效率来对空间进行划分，并且其结构非常适合寻找最近邻居和碰撞检测。KD树是一种便于对$k$维空间中的数据进行快速检索的数据结构。KD树是二叉树，表示对$k$维空间的一个划分，其每个结点对应于$k$维空间划分中的一个超矩形区域。利用KD树可以省去对大部分数据点的搜索，从而减少搜索的计算量。\n",
    "\n",
    "KD树是二叉树，表示对𝑘维空间的一个划分(partition)。构造KD树相当于不断地用垂直于坐标轴的超平面将𝑘维空间切分，构成一系列的$k$维超矩形区域。KD树的每个结点对应于一个$k$维超矩形区域。\n",
    "\n",
    "### 构造KD树的方法\n",
    "\n",
    "构造根结点，使根结点对应于$k$维空间中包含所有实例点的超矩形区域；\n",
    "\n",
    "通过下面的递归方法，不断地对$k$维空间进行切分，生成子结点。\n",
    "\n",
    "在超矩形区域(结点)上选择一个坐标轴和在此坐标轴上的一个切分点，确定一个超平面，这个超平面通过选定的切分点并垂直于选定的坐标轴，将当前超矩形区域切分为左右两个子区域(子结点)；\n",
    "\n",
    "这时，实例被分到两个子区域。这个过程直到子区域内没有实例时终止(终止时的结点为叶结点)。\n",
    "\n",
    "在此过程中，将实例保存在相应的结点上。\n",
    "\n",
    "通常，依次选择坐标轴对空间切分，选择训练实例点在选定坐标轴上的中位数(median)为切分点，这样得到的KD树是平衡的。\n",
    "\n",
    "注意，平衡的KD树搜索时的效率未必是最优的。\n",
    "\n",
    "对于构建过程，有两个优化点：\n",
    "\n",
    "1. 选择切分维度\n",
    "\n",
    "根据数据点在各维度上的分布情况，方差越大，分布越分散从方差大的维度开始切分，有较好的切分效果和平衡性。\n",
    "\n",
    "2. 确定中值点\n",
    "\n",
    "预先对原始数据点在所有维度进行一次排序，存储下来，然后在后续的中值选择中，无须每次都对其子集进行排序，提升了性能。也可以从原始数据点中随机选择固定数目的点，然后对其进行排序，每次从这些样本点中取中值，来作为分割超平面。该方式在实践中被证明可以取得很好性能及很好的平衡性。"
   ]
  },
  {
   "cell_type": "code",
   "execution_count": 4,
   "metadata": {
    "ExecuteTime": {
     "end_time": "2024-04-07T02:17:57.658861700Z",
     "start_time": "2024-04-07T02:17:57.518596Z"
    }
   },
   "outputs": [],
   "source": [
    "from collections import namedtuple\n",
    "from pprint import pformat\n",
    "\n",
    "class Node(namedtuple('Node', 'location left_child right_child')):\n",
    "    def __repr__(self):\n",
    "        return pformat(tuple(self))\n"
   ]
  },
  {
   "cell_type": "code",
   "execution_count": 5,
   "metadata": {
    "ExecuteTime": {
     "end_time": "2024-04-07T02:17:57.658861700Z",
     "start_time": "2024-04-07T02:17:57.537049500Z"
    }
   },
   "outputs": [],
   "source": [
    "# kd-tree每个结点中主要包含的数据结构如下\n",
    "class KdNode(object):\n",
    "    def __init__(self, dom_elt, split, left, right):\n",
    "        self.dom_elt = dom_elt  # k维向量节点(k维空间中的一个样本点)\n",
    "        self.split = split  # 整数（进行分割维度的序号）\n",
    "        self.left = left  # 该结点分割超平面左子空间构成的kd-tree\n",
    "        self.right = right  # 该结点分割超平面右子空间构成的kd-tree\n",
    "\n",
    "\n",
    "class KdTreeCreate(object):\n",
    "    def __init__(self, data):\n",
    "        k = len(data[0])  # 数据维度\n",
    "\n",
    "        def CreateNode(split, data_set):  # 按第split维划分数据集exset创建KdNode\n",
    "            if not data_set:  # 数据集为空\n",
    "                return None\n",
    "            # key参数的值为一个函数，此函数只有一个参数且返回一个值用来进行比较\n",
    "            # operator模块提供的itemgetter函数用于获取对象的哪些维的数据，参数为需要获取的数据在对象中的序号\n",
    "            #data_set.sort(key=itemgetter(split)) # 按要进行分割的那一维数据排序\n",
    "            data_set.sort(key=lambda x: x[split])\n",
    "            split_pos = len(data_set) // 2  # //为Python中的整数除法\n",
    "            median = data_set[split_pos]  # 中位数分割点\n",
    "            split_next = (split + 1) % k  # cycle coordinates\n",
    "\n",
    "            # 递归的创建kd树\n",
    "            return KdNode(\n",
    "                median,\n",
    "                split,\n",
    "                CreateNode(split_next, data_set[:split_pos]),  # 创建左子树\n",
    "                CreateNode(split_next, data_set[split_pos + 1:]))  # 创建右子树\n",
    "\n",
    "        self.root = CreateNode(0, data)  # 从第0维分量开始构建kd树,返回根节点\n",
    "\n",
    "# KDTree的前序遍历\n",
    "def preorder(root):\n",
    "    print(root.dom_elt)\n",
    "    if root.left:  # 节点不为空\n",
    "        preorder(root.left)\n",
    "    if root.right:\n",
    "        preorder(root.right)\n"
   ]
  },
  {
   "cell_type": "code",
   "execution_count": 191,
   "metadata": {
    "ExecuteTime": {
     "end_time": "2024-04-07T02:17:57.689321400Z",
     "start_time": "2024-04-07T02:17:57.551017500Z"
    }
   },
   "outputs": [],
   "source": [
    "# 对构建好的kd树进行搜索，寻找与目标点最近的样本点：\n",
    "from math import sqrt\n",
    "from collections import namedtuple\n",
    "\n",
    "# 定义一个namedtuple,分别存放最近坐标点、最近距离和访问过的节点数\n",
    "result = namedtuple(\"Result_tuple\",\n",
    "                    \"nearest_point  nearest_dist  nodes_visited\")\n",
    "\n",
    "\n",
    "def find_nearest(tree, point):\n",
    "    k = len(point)  # 数据维度\n",
    "\n",
    "    def travel(kd_node, target, max_dist):\n",
    "        if kd_node is None:\n",
    "            return result([0] * k, float(\"inf\"),\n",
    "                          0)  # python中用float(\"inf\")和float(\"-inf\")表示正负无穷\n",
    "\n",
    "        nodes_visited = 1\n",
    "\n",
    "        s = kd_node.split  # 进行分割的维度\n",
    "        pivot = kd_node.dom_elt  # 进行分割的“轴”\n",
    "\n",
    "        if target[s] <= pivot[s]:  # 如果目标点第s维小于分割轴的对应值(目标离左子树更近)\n",
    "            nearer_node = kd_node.left  # 下一个访问节点为左子树根节点\n",
    "            further_node = kd_node.right  # 同时记录下右子树\n",
    "        else:  # 目标离右子树更近\n",
    "            nearer_node = kd_node.right  # 下一个访问节点为右子树根节点\n",
    "            further_node = kd_node.left\n",
    "\n",
    "        temp1 = travel(nearer_node, target, max_dist)  # 进行遍历找到包含目标点的区域\n",
    "\n",
    "        nearest = temp1.nearest_point  # 以此叶结点作为“当前最近点”\n",
    "        dist = temp1.nearest_dist  # 更新最近距离\n",
    "\n",
    "        nodes_visited += temp1.nodes_visited\n",
    "\n",
    "        if dist < max_dist:\n",
    "            max_dist = dist  # 最近点将在以目标点为球心，max_dist为半径的超球体内\n",
    "\n",
    "        temp_dist = abs(pivot[s] - target[s])  # 第s维上目标点与分割超平面的距离\n",
    "        if max_dist < temp_dist:  # 判断超球体是否与超平面相交\n",
    "            return result(nearest, dist, nodes_visited)  # 不相交则可以直接返回，不用继续判断\n",
    "\n",
    "        #----------------------------------------------------------------------\n",
    "        # 计算目标点与分割点的欧氏距离\n",
    "        temp_dist = sqrt(sum((p1 - p2)**2 for p1, p2 in zip(pivot, target)))\n",
    "\n",
    "        if temp_dist < dist:  # 如果“更近”\n",
    "            nearest = pivot  # 更新最近点\n",
    "            dist = temp_dist  # 更新最近距离\n",
    "            max_dist = dist  # 更新超球体半径\n",
    "\n",
    "        # 检查另一个子结点对应的区域是否有更近的点\n",
    "        temp2 = travel(further_node, target, max_dist)\n",
    "\n",
    "        nodes_visited += temp2.nodes_visited\n",
    "        if temp2.nearest_dist < dist:  # 如果另一个子结点内存在更近距离\n",
    "            nearest = temp2.nearest_point  # 更新最近点\n",
    "            dist = temp2.nearest_dist  # 更新最近距离\n",
    "\n",
    "        return result(nearest, dist, nodes_visited)\n",
    "\n",
    "    return travel(tree.root, point, float(\"inf\"))  # 从根节点开始递归\n"
   ]
  },
  {
   "cell_type": "code",
   "execution_count": 192,
   "metadata": {
    "ExecuteTime": {
     "end_time": "2024-04-07T02:17:57.696297200Z",
     "start_time": "2024-04-07T02:17:57.565629700Z"
    }
   },
   "outputs": [],
   "source": [
    "from time import process_time\n",
    "from random import random\n",
    "\n",
    "\n",
    "# 产生一个k维随机向量，每维分量值在0~1之间\n",
    "def random_point(k):\n",
    "    return [random() for _ in range(k)]\n",
    "\n",
    "\n",
    "# 产生n个k维随机向量\n",
    "def random_points(k, n):\n",
    "    return [random_point(k) for _ in range(n)]\n"
   ]
  },
  {
   "cell_type": "code",
   "execution_count": 193,
   "metadata": {
    "ExecuteTime": {
     "end_time": "2024-04-07T02:17:59.983596900Z",
     "start_time": "2024-04-07T02:17:57.582232Z"
    }
   },
   "outputs": [
    {
     "name": "stdout",
     "output_type": "stream",
     "text": [
      "time:  6.912357301 s\n",
      "Result_tuple(nearest_point=[0.09343097802305256, 0.49492568503068324, 0.7944750883788907], nearest_dist=0.00997122713423578, nodes_visited=77)\n"
     ]
    }
   ],
   "source": [
    "N = 400000\n",
    "t0 = process_time()\n",
    "kd2 = KdTreeCreate(random_points(3, N))  # 构建包含四十万个3维空间样本点的kd树\n",
    "ret2 = find_nearest(kd2, [0.1, 0.5, 0.8])  # 四十万个样本点中寻找离目标最近的点\n",
    "t1 = process_time()\n",
    "print(\"time: \", t1 - t0, \"s\")\n",
    "print(ret2)\n"
   ]
  },
  {
   "cell_type": "markdown",
   "metadata": {},
   "source": [
    "### KD树的绘图代码"
   ]
  },
  {
   "cell_type": "code",
   "execution_count": 2,
   "metadata": {
    "ExecuteTime": {
     "end_time": "2024-04-07T02:18:00.028738200Z",
     "start_time": "2024-04-07T02:17:59.985590Z"
    }
   },
   "outputs": [],
   "source": [
    "from operator import itemgetter\n",
    "\n",
    "def kdtree(point_list, depth=0):\n",
    "    if len(point_list) == 0:\n",
    "        return None\n",
    "    \n",
    "    # 选择“基于深度的轴”，以便轴在所有有效值之间循环\n",
    "    # 只支持二维\n",
    "    axis = depth % 2\n",
    "\n",
    "    # Sort point list and choose median as pivot element\n",
    "    point_list.sort(key=itemgetter(axis))\n",
    "    median = len(point_list) // 2  # 选择中值点\n",
    "    \n",
    "    # 创建节点并构造子树\n",
    "    return Node(\n",
    "        location = point_list[median],\n",
    "        left_child = kdtree(point_list[:median], depth + 1),\n",
    "        right_child = kdtree(point_list[median + 1:], depth + 1)\n",
    "    )\n"
   ]
  },
  {
   "cell_type": "code",
   "execution_count": 55,
   "metadata": {
    "ExecuteTime": {
     "end_time": "2024-04-07T02:18:00.038224600Z",
     "start_time": "2024-04-07T02:17:59.999598200Z"
    }
   },
   "outputs": [],
   "source": [
    "import matplotlib.pyplot as plt\n",
    "\n",
    "# KD树的线宽\n",
    "line_width = [4., 3.5, 3., 2.5, 2., 1.5, 1., .5, 0.3]\n",
    "\n",
    "\n",
    "def plot_tree(tree, min_x, max_x, min_y, max_y, prev_node, branch, depth=0):\n",
    "    \"\"\" plot K-D tree\n",
    "    :param tree      input tree to be plotted\n",
    "    :param min_x\n",
    "    :param max_x\n",
    "    :param min_y\n",
    "    :param max_y\n",
    "    :param prev_node parent's node\n",
    "    :param branch    True if left, False if right\n",
    "    :param depth     tree's depth\n",
    "    :return tree     node\n",
    "    \"\"\"\n",
    "\n",
    "    cur_node = tree.location  # 当前树节点\n",
    "    left_branch = tree.left_child  # 左分支\n",
    "    right_branch = tree.right_child  # 右分支\n",
    "\n",
    "    #根据树的深度设置线条的宽度\n",
    "    if depth > len(line_width) - 1:\n",
    "        ln_width = line_width[len(line_width) - 1]\n",
    "    else:\n",
    "        ln_width = line_width[depth]\n",
    "\n",
    "    k = len(cur_node)\n",
    "    axis = depth % k\n",
    "\n",
    "    # 画垂直分割线\n",
    "    if axis == 0:\n",
    "        if branch is not None and prev_node is not None:\n",
    "            if branch:\n",
    "                max_y = prev_node[1]\n",
    "            else:\n",
    "                min_y = prev_node[1]\n",
    "\n",
    "        plt.plot([cur_node[0], cur_node[0]], [min_y, max_y],\n",
    "                 linestyle='-',\n",
    "                 color='red',\n",
    "                 linewidth=ln_width)\n",
    "\n",
    "    # 画水平分割线\n",
    "    elif axis == 1:\n",
    "        if branch is not None and prev_node is not None:\n",
    "            if branch:\n",
    "                max_x = prev_node[0]\n",
    "            else:\n",
    "                min_x = prev_node[0]\n",
    "\n",
    "        plt.plot([min_x, max_x], [cur_node[1], cur_node[1]],\n",
    "                 linestyle='-',\n",
    "                 color='blue',\n",
    "                 linewidth=ln_width)\n",
    "\n",
    "    # 画当前节点\n",
    "    plt.plot(cur_node[0], cur_node[1], 'ko')\n",
    "\n",
    "    # 绘制当前节点的左分支和右分支\n",
    "    if left_branch is not None:\n",
    "        plot_tree(left_branch, min_x, max_x, min_y, max_y, cur_node, True,\n",
    "                  depth + 1)\n",
    "\n",
    "    if right_branch is not None:\n",
    "        plot_tree(right_branch, min_x, max_x, min_y, max_y, cur_node, False,\n",
    "                  depth + 1)\n"
   ]
  },
  {
   "cell_type": "code",
   "execution_count": null,
   "metadata": {
    "ExecuteTime": {
     "end_time": "2024-04-07T02:18:00.039221900Z",
     "start_time": "2024-04-07T02:18:00.015062700Z"
    }
   },
   "outputs": [],
   "source": [
    "def create_diagram(tree, width, height, min_val, max_val, delta):\n",
    "    plt.figure(\"Kd Tree\", figsize=(width, height))\n",
    "    plt.axis(\n",
    "        [min_val - delta, max_val + delta, min_val - delta, max_val + delta])\n",
    "\n",
    "    plt.grid(visible=True, which='major', color='0.75', linestyle='--')\n",
    "    plt.xticks([i for i in range(min_val - delta, max_val + delta, 1)])\n",
    "    plt.yticks([i for i in range(min_val - delta, max_val + delta, 1)])\n",
    "\n",
    "    # 画出树\n",
    "    plot_tree(tree, min_val - delta, max_val + delta, min_val - delta,\n",
    "              max_val + delta, None, None)\n",
    "    plt.title('KD Tree')\n"
   ]
  },
  {
   "cell_type": "code",
   "execution_count": null,
   "metadata": {
    "ExecuteTime": {
     "end_time": "2024-04-07T02:18:00.048699700Z",
     "start_time": "2024-04-07T02:18:00.030733300Z"
    }
   },
   "outputs": [],
   "source": [
    "def label_nodes(node, i):\n",
    "    loc = node.location\n",
    "\n",
    "    plt.text(loc[0] + 0.15, loc[1] + 0.15, str(i), fontsize=10)\n",
    "\n",
    "    if node.left_child:\n",
    "        i = label_nodes(node.left_child, i + 1)\n",
    "\n",
    "    if node.right_child:\n",
    "        i = label_nodes(node.right_child, i + 1)\n",
    "\n",
    "    return i\n"
   ]
  },
  {
   "cell_type": "code",
   "execution_count": null,
   "metadata": {
    "ExecuteTime": {
     "end_time": "2024-04-07T02:18:00.071169500Z",
     "start_time": "2024-04-07T02:18:00.047699900Z"
    }
   },
   "outputs": [],
   "source": [
    "def draw_target(point, radius):\n",
    "    plt.plot(point[0], point[1], marker='o', color='#ff007f')\n",
    "    circle = plt.Circle(point,\n",
    "                        0.3,\n",
    "                        facecolor='#ff007f',\n",
    "                        edgecolor='#ff007f',\n",
    "                        alpha=0.5)\n",
    "    plt.gca().add_patch(circle)\n",
    "\n",
    "    # 围绕目标点绘制超球体\n",
    "    circle = plt.Circle(point,\n",
    "                        radius,\n",
    "                        facecolor='#ffd83d',\n",
    "                        edgecolor='#ffd83d',\n",
    "                        alpha=0.5)\n",
    "    plt.gca().add_patch(circle)\n"
   ]
  },
  {
   "cell_type": "code",
   "execution_count": null,
   "metadata": {
    "ExecuteTime": {
     "end_time": "2024-04-07T02:18:00.082640800Z",
     "start_time": "2024-04-07T02:18:00.062683100Z"
    }
   },
   "outputs": [],
   "source": [
    "def draw_neighbors(point_list):\n",
    "    for point in point_list:\n",
    "        # 画出找到的最近的邻居\n",
    "        plt.plot(point[0], point[1], 'go')\n",
    "        circle = plt.Circle(point,\n",
    "                            0.3,\n",
    "                            facecolor='#33cc00',\n",
    "                            edgecolor='#33cc00',\n",
    "                            alpha=0.5)\n",
    "        plt.gca().add_patch(circle)\n"
   ]
  },
  {
   "cell_type": "code",
   "execution_count": null,
   "metadata": {
    "ExecuteTime": {
     "end_time": "2024-04-07T02:18:00.094118500Z",
     "start_time": "2024-04-07T02:18:00.078652400Z"
    }
   },
   "outputs": [],
   "source": [
    "from graphviz import Digraph\n",
    "\n",
    "\n",
    "def add_node(dot, node, parent_id=None, i=0, edge_label=''):\n",
    "    loc = node.location\n",
    "    node_id = str(i)\n",
    "    dot.node(node_id, f\"{i}\\n({loc[0]},{loc[1]})\")\n",
    "    if parent_id:\n",
    "        dot.edge(parent_id, node_id, label=edge_label)\n",
    "    if node.left_child:\n",
    "        i = add_node(dot, node.left_child, node_id, i + 1, 'l')\n",
    "    if node.right_child:\n",
    "        i = add_node(dot, node.right_child, node_id, i + 1, 'r')\n",
    "    return i\n",
    "\n",
    "\n",
    "def create_graph(tree):\n",
    "    dot = Digraph(comment='Kd-tree')\n",
    "    dot.attr('node',\n",
    "             fontsize='20',\n",
    "             shape='circle',\n",
    "             width='1',\n",
    "             fixedsize='true')\n",
    "    dot.attr('edge', arrowsize='0.7')\n",
    "    add_node(dot, tree)\n",
    "    return dot\n"
   ]
  },
  {
   "cell_type": "code",
   "execution_count": 8,
   "metadata": {
    "ExecuteTime": {
     "end_time": "2024-04-07T02:18:00.157954100Z",
     "start_time": "2024-04-07T02:18:00.093121500Z"
    }
   },
   "outputs": [
    {
     "name": "stdout",
     "output_type": "stream",
     "text": [
      "((6, 4),\n",
      " ((4, 5), ((2, 3), None, None), ((5, 7), None, None)),\n",
      " ((9, 6), ((7, 2), None, None), None))\n"
     ]
    },
    {
     "data": {
      "image/svg+xml": [
       "<?xml version=\"1.0\" encoding=\"UTF-8\" standalone=\"no\"?>\n",
       "<!DOCTYPE svg PUBLIC \"-//W3C//DTD SVG 1.1//EN\"\n",
       " \"http://www.w3.org/Graphics/SVG/1.1/DTD/svg11.dtd\">\n",
       "<!-- Generated by graphviz version 2.43.0 (0)\n",
       " -->\n",
       "<!-- Title: %3 Pages: 1 -->\n",
       "<svg width=\"260pt\" height=\"326pt\"\n",
       " viewBox=\"0.00 0.00 260.00 326.00\" xmlns=\"http://www.w3.org/2000/svg\" xmlns:xlink=\"http://www.w3.org/1999/xlink\">\n",
       "<g id=\"graph0\" class=\"graph\" transform=\"scale(1 1) rotate(0) translate(4 322)\">\n",
       "<title>%3</title>\n",
       "<polygon fill=\"white\" stroke=\"transparent\" points=\"-4,4 -4,-322 256,-322 256,4 -4,4\"/>\n",
       "<!-- 0 -->\n",
       "<g id=\"node1\" class=\"node\">\n",
       "<title>0</title>\n",
       "<ellipse fill=\"none\" stroke=\"black\" cx=\"171\" cy=\"-282\" rx=\"36\" ry=\"36\"/>\n",
       "<text text-anchor=\"middle\" x=\"171\" y=\"-288\" font-family=\"Times,serif\" font-size=\"20.00\">0</text>\n",
       "<text text-anchor=\"middle\" x=\"171\" y=\"-266\" font-family=\"Times,serif\" font-size=\"20.00\">(6,4)</text>\n",
       "</g>\n",
       "<!-- 1 -->\n",
       "<g id=\"node2\" class=\"node\">\n",
       "<title>1</title>\n",
       "<ellipse fill=\"none\" stroke=\"black\" cx=\"126\" cy=\"-159\" rx=\"36\" ry=\"36\"/>\n",
       "<text text-anchor=\"middle\" x=\"126\" y=\"-165\" font-family=\"Times,serif\" font-size=\"20.00\">1</text>\n",
       "<text text-anchor=\"middle\" x=\"126\" y=\"-143\" font-family=\"Times,serif\" font-size=\"20.00\">(4,5)</text>\n",
       "</g>\n",
       "<!-- 0&#45;&gt;1 -->\n",
       "<g id=\"edge1\" class=\"edge\">\n",
       "<title>0&#45;&gt;1</title>\n",
       "<path fill=\"none\" stroke=\"black\" d=\"M158.7,-247.94C153.2,-233.13 146.66,-215.54 140.88,-200\"/>\n",
       "<polygon fill=\"black\" stroke=\"black\" points=\"143.02,-198.73 138.28,-193.02 138.43,-200.44 143.02,-198.73\"/>\n",
       "<text text-anchor=\"middle\" x=\"154.5\" y=\"-216.8\" font-family=\"Times,serif\" font-size=\"14.00\">l</text>\n",
       "</g>\n",
       "<!-- 4 -->\n",
       "<g id=\"node5\" class=\"node\">\n",
       "<title>4</title>\n",
       "<ellipse fill=\"none\" stroke=\"black\" cx=\"216\" cy=\"-159\" rx=\"36\" ry=\"36\"/>\n",
       "<text text-anchor=\"middle\" x=\"216\" y=\"-165\" font-family=\"Times,serif\" font-size=\"20.00\">4</text>\n",
       "<text text-anchor=\"middle\" x=\"216\" y=\"-143\" font-family=\"Times,serif\" font-size=\"20.00\">(9,6)</text>\n",
       "</g>\n",
       "<!-- 0&#45;&gt;4 -->\n",
       "<g id=\"edge4\" class=\"edge\">\n",
       "<title>0&#45;&gt;4</title>\n",
       "<path fill=\"none\" stroke=\"black\" d=\"M183.3,-247.94C188.8,-233.13 195.34,-215.54 201.12,-200\"/>\n",
       "<polygon fill=\"black\" stroke=\"black\" points=\"203.57,-200.44 203.72,-193.02 198.98,-198.73 203.57,-200.44\"/>\n",
       "<text text-anchor=\"middle\" x=\"199.5\" y=\"-216.8\" font-family=\"Times,serif\" font-size=\"14.00\">r</text>\n",
       "</g>\n",
       "<!-- 2 -->\n",
       "<g id=\"node3\" class=\"node\">\n",
       "<title>2</title>\n",
       "<ellipse fill=\"none\" stroke=\"black\" cx=\"36\" cy=\"-36\" rx=\"36\" ry=\"36\"/>\n",
       "<text text-anchor=\"middle\" x=\"36\" y=\"-42\" font-family=\"Times,serif\" font-size=\"20.00\">2</text>\n",
       "<text text-anchor=\"middle\" x=\"36\" y=\"-20\" font-family=\"Times,serif\" font-size=\"20.00\">(2,3)</text>\n",
       "</g>\n",
       "<!-- 1&#45;&gt;2 -->\n",
       "<g id=\"edge2\" class=\"edge\">\n",
       "<title>1&#45;&gt;2</title>\n",
       "<path fill=\"none\" stroke=\"black\" d=\"M104.9,-129.63C92.02,-112.31 75.45,-90.04 61.79,-71.68\"/>\n",
       "<polygon fill=\"black\" stroke=\"black\" points=\"63.42,-69.77 57.28,-65.61 59.49,-72.69 63.42,-69.77\"/>\n",
       "<text text-anchor=\"middle\" x=\"89.5\" y=\"-93.8\" font-family=\"Times,serif\" font-size=\"14.00\">l</text>\n",
       "</g>\n",
       "<!-- 3 -->\n",
       "<g id=\"node4\" class=\"node\">\n",
       "<title>3</title>\n",
       "<ellipse fill=\"none\" stroke=\"black\" cx=\"126\" cy=\"-36\" rx=\"36\" ry=\"36\"/>\n",
       "<text text-anchor=\"middle\" x=\"126\" y=\"-42\" font-family=\"Times,serif\" font-size=\"20.00\">3</text>\n",
       "<text text-anchor=\"middle\" x=\"126\" y=\"-20\" font-family=\"Times,serif\" font-size=\"20.00\">(5,7)</text>\n",
       "</g>\n",
       "<!-- 1&#45;&gt;3 -->\n",
       "<g id=\"edge3\" class=\"edge\">\n",
       "<title>1&#45;&gt;3</title>\n",
       "<path fill=\"none\" stroke=\"black\" d=\"M126,-122.68C126,-109.13 126,-93.54 126,-79.4\"/>\n",
       "<polygon fill=\"black\" stroke=\"black\" points=\"128.45,-79.16 126,-72.16 123.55,-79.16 128.45,-79.16\"/>\n",
       "<text text-anchor=\"middle\" x=\"129.5\" y=\"-93.8\" font-family=\"Times,serif\" font-size=\"14.00\">r</text>\n",
       "</g>\n",
       "<!-- 5 -->\n",
       "<g id=\"node6\" class=\"node\">\n",
       "<title>5</title>\n",
       "<ellipse fill=\"none\" stroke=\"black\" cx=\"216\" cy=\"-36\" rx=\"36\" ry=\"36\"/>\n",
       "<text text-anchor=\"middle\" x=\"216\" y=\"-42\" font-family=\"Times,serif\" font-size=\"20.00\">5</text>\n",
       "<text text-anchor=\"middle\" x=\"216\" y=\"-20\" font-family=\"Times,serif\" font-size=\"20.00\">(7,2)</text>\n",
       "</g>\n",
       "<!-- 4&#45;&gt;5 -->\n",
       "<g id=\"edge5\" class=\"edge\">\n",
       "<title>4&#45;&gt;5</title>\n",
       "<path fill=\"none\" stroke=\"black\" d=\"M216,-122.68C216,-109.13 216,-93.54 216,-79.4\"/>\n",
       "<polygon fill=\"black\" stroke=\"black\" points=\"218.45,-79.16 216,-72.16 213.55,-79.16 218.45,-79.16\"/>\n",
       "<text text-anchor=\"middle\" x=\"218.5\" y=\"-93.8\" font-family=\"Times,serif\" font-size=\"14.00\">l</text>\n",
       "</g>\n",
       "</g>\n",
       "</svg>\n"
      ],
      "text/plain": [
       "<graphviz.graphs.Digraph at 0x7fa3c1533280>"
      ]
     },
     "execution_count": 8,
     "metadata": {},
     "output_type": "execute_result"
    }
   ],
   "source": [
    "from graphviz import Digraph\n",
    "\n",
    "def add_node(dot, node, parent_id=None, i=0, edge_label=''):\n",
    "    loc = node.location\n",
    "    node_id = str(i)\n",
    "    dot.node(node_id, f\"{i}\\n({loc[0]},{loc[1]})\")\n",
    "    if parent_id:\n",
    "        dot.edge(parent_id, node_id, label=edge_label)\n",
    "    if node.left_child:\n",
    "        i = add_node(dot, node.left_child, node_id, i + 1, 'l')\n",
    "    if node.right_child:\n",
    "        i = add_node(dot, node.right_child, node_id, i + 1, 'r')\n",
    "    return i\n",
    "\n",
    "\n",
    "def create_graph(tree):\n",
    "    dot = Digraph(comment='Kd-tree')\n",
    "    dot.attr('node',\n",
    "             fontsize='20',\n",
    "             shape='circle',\n",
    "             width='1',\n",
    "             fixedsize='true')\n",
    "    dot.attr('edge', arrowsize='0.7')\n",
    "    add_node(dot, tree)\n",
    "    return dot\n",
    "\n",
    "\n",
    "# point_list = [[2,3],[5,7],[9,6],[4,5],[6,4],[7,2]]\n",
    "point_list1 = [(2,3),(5,7),(9,6),(4,5),(6,4),(7,2)]\n",
    "\n",
    "\n",
    "tree = kdtree(point_list1)\n",
    "print(tree)\n",
    "create_graph(tree)\n",
    "\n",
    "# draw_neighbors(point_list1)\n",
    "# draw_target((2,3),2)\n"
   ]
  },
  {
   "cell_type": "code",
   "execution_count": 51,
   "metadata": {
    "ExecuteTime": {
     "end_time": "2024-04-07T02:18:00.200226700Z",
     "start_time": "2024-04-07T02:18:00.156454400Z"
    }
   },
   "outputs": [],
   "source": [
    "max_int = 10000000\n",
    "min_int = -max_int - 1\n",
    "max_float = float('inf')\n"
   ]
  },
  {
   "cell_type": "code",
   "execution_count": 52,
   "metadata": {
    "ExecuteTime": {
     "end_time": "2024-04-07T02:18:00.204208600Z",
     "start_time": "2024-04-07T02:18:00.171599100Z"
    }
   },
   "outputs": [],
   "source": [
    "def get_val_range(point_list):\n",
    "    min_val = max_int\n",
    "    max_val = -max_int - 1\n",
    "    for point in point_list:\n",
    "        min_v = min(point)\n",
    "        if min_v < min_val:\n",
    "            min_val = min_v\n",
    "        max_v = max(point)\n",
    "        if max_v > max_val:\n",
    "            max_val = max_v\n",
    "    return (min_val, max_val)\n"
   ]
  },
  {
   "cell_type": "code",
   "execution_count": 53,
   "metadata": {
    "ExecuteTime": {
     "end_time": "2024-04-07T02:18:00.205205500Z",
     "start_time": "2024-04-07T02:18:00.187069500Z"
    }
   },
   "outputs": [],
   "source": [
    "min_val, max_val=get_val_range(point_list1)\n"
   ]
  },
  {
   "cell_type": "code",
   "execution_count": 56,
   "metadata": {
    "ExecuteTime": {
     "end_time": "2024-04-07T02:18:00.284132700Z",
     "start_time": "2024-04-07T02:18:00.202215800Z"
    }
   },
   "outputs": [
    {
     "ename": "AttributeError",
     "evalue": "'NODE' object has no attribute 'location'",
     "output_type": "error",
     "traceback": [
      "\u001b[0;31m---------------------------------------------------------------------------\u001b[0m",
      "\u001b[0;31mAttributeError\u001b[0m                            Traceback (most recent call last)",
      "Cell \u001b[0;32mIn[56], line 1\u001b[0m\n\u001b[0;32m----> 1\u001b[0m \u001b[43mcreate_diagram\u001b[49m\u001b[43m(\u001b[49m\u001b[43mtree\u001b[49m\u001b[43m,\u001b[49m\u001b[43m \u001b[49m\u001b[38;5;241;43m8.\u001b[39;49m\u001b[43m,\u001b[49m\u001b[43m \u001b[49m\u001b[38;5;241;43m8.\u001b[39;49m\u001b[43m,\u001b[49m\u001b[43m \u001b[49m\u001b[43mmin_val\u001b[49m\u001b[43m,\u001b[49m\u001b[43m \u001b[49m\u001b[43mmax_val\u001b[49m\u001b[43m,\u001b[49m\u001b[43m \u001b[49m\u001b[38;5;241;43m1\u001b[39;49m\u001b[43m)\u001b[49m\n\u001b[1;32m      2\u001b[0m label_nodes(tree, \u001b[38;5;241m0\u001b[39m)\n\u001b[1;32m      3\u001b[0m plt\u001b[38;5;241m.\u001b[39mshow()\n",
      "Cell \u001b[0;32mIn[50], line 14\u001b[0m, in \u001b[0;36mcreate_diagram\u001b[0;34m(tree, width, height, min_val, max_val, delta)\u001b[0m\n\u001b[1;32m     11\u001b[0m plt\u001b[38;5;241m.\u001b[39myticks([i \u001b[38;5;28;01mfor\u001b[39;00m i \u001b[38;5;129;01min\u001b[39;00m \u001b[38;5;28mrange\u001b[39m(min_val \u001b[38;5;241m-\u001b[39m delta, max_val \u001b[38;5;241m+\u001b[39m delta, \u001b[38;5;241m1\u001b[39m)])\n\u001b[1;32m     13\u001b[0m \u001b[38;5;66;03m# 画出树\u001b[39;00m\n\u001b[0;32m---> 14\u001b[0m \u001b[43mplot_tree\u001b[49m\u001b[43m(\u001b[49m\u001b[43mtree\u001b[49m\u001b[43m,\u001b[49m\u001b[43m \u001b[49m\u001b[43mmin_val\u001b[49m\u001b[43m \u001b[49m\u001b[38;5;241;43m-\u001b[39;49m\u001b[43m \u001b[49m\u001b[43mdelta\u001b[49m\u001b[43m,\u001b[49m\u001b[43m \u001b[49m\u001b[43mmax_val\u001b[49m\u001b[43m \u001b[49m\u001b[38;5;241;43m+\u001b[39;49m\u001b[43m \u001b[49m\u001b[43mdelta\u001b[49m\u001b[43m,\u001b[49m\u001b[43m \u001b[49m\u001b[43mmin_val\u001b[49m\u001b[43m \u001b[49m\u001b[38;5;241;43m-\u001b[39;49m\u001b[43m \u001b[49m\u001b[43mdelta\u001b[49m\u001b[43m,\u001b[49m\n\u001b[1;32m     15\u001b[0m \u001b[43m          \u001b[49m\u001b[43mmax_val\u001b[49m\u001b[43m \u001b[49m\u001b[38;5;241;43m+\u001b[39;49m\u001b[43m \u001b[49m\u001b[43mdelta\u001b[49m\u001b[43m,\u001b[49m\u001b[43m \u001b[49m\u001b[38;5;28;43;01mNone\u001b[39;49;00m\u001b[43m,\u001b[49m\u001b[43m \u001b[49m\u001b[38;5;28;43;01mNone\u001b[39;49;00m\u001b[43m)\u001b[49m\n\u001b[1;32m     16\u001b[0m plt\u001b[38;5;241m.\u001b[39mtitle(\u001b[38;5;124m'\u001b[39m\u001b[38;5;124mKD Tree\u001b[39m\u001b[38;5;124m'\u001b[39m)\n",
      "Cell \u001b[0;32mIn[55], line 20\u001b[0m, in \u001b[0;36mplot_tree\u001b[0;34m(tree, min_x, max_x, min_y, max_y, prev_node, branch, depth)\u001b[0m\n\u001b[1;32m      7\u001b[0m \u001b[38;5;28;01mdef\u001b[39;00m \u001b[38;5;21mplot_tree\u001b[39m(tree, min_x, max_x, min_y, max_y, prev_node, branch, depth\u001b[38;5;241m=\u001b[39m\u001b[38;5;241m0\u001b[39m):\n\u001b[1;32m      8\u001b[0m \u001b[38;5;250m    \u001b[39m\u001b[38;5;124;03m\"\"\" plot K-D tree\u001b[39;00m\n\u001b[1;32m      9\u001b[0m \u001b[38;5;124;03m    :param tree      input tree to be plotted\u001b[39;00m\n\u001b[1;32m     10\u001b[0m \u001b[38;5;124;03m    :param min_x\u001b[39;00m\n\u001b[0;32m   (...)\u001b[0m\n\u001b[1;32m     17\u001b[0m \u001b[38;5;124;03m    :return tree     node\u001b[39;00m\n\u001b[1;32m     18\u001b[0m \u001b[38;5;124;03m    \"\"\"\u001b[39;00m\n\u001b[0;32m---> 20\u001b[0m     cur_node \u001b[38;5;241m=\u001b[39m \u001b[43mtree\u001b[49m\u001b[38;5;241;43m.\u001b[39;49m\u001b[43mlocation\u001b[49m  \u001b[38;5;66;03m# 当前树节点\u001b[39;00m\n\u001b[1;32m     21\u001b[0m     left_branch \u001b[38;5;241m=\u001b[39m tree\u001b[38;5;241m.\u001b[39mleft_child  \u001b[38;5;66;03m# 左分支\u001b[39;00m\n\u001b[1;32m     22\u001b[0m     right_branch \u001b[38;5;241m=\u001b[39m tree\u001b[38;5;241m.\u001b[39mright_child  \u001b[38;5;66;03m# 右分支\u001b[39;00m\n",
      "\u001b[0;31mAttributeError\u001b[0m: 'NODE' object has no attribute 'location'"
     ]
    },
    {
     "data": {
      "image/png": "[encoded data removed]",
      "text/plain": [
       "<Figure size 800x800 with 1 Axes>"
      ]
     },
     "metadata": {},
     "output_type": "display_data"
    }
   ],
   "source": [
    "create_diagram(tree, 8., 8., min_val, max_val, 1)\n",
    "label_nodes(tree, 0)\n",
    "plt.show()\n"
   ]
  },
  {
   "cell_type": "markdown",
   "metadata": {},
   "source": [
    "## 参考\n",
    "[1] Andrew Ng. Machine Learning[EB/OL]. StanfordUniversity,2014.https://www.coursera.org/course/ml\n",
    "\n",
    "[2] 李航. 统计学习方法[M]. 北京: 清华大学出版社,2019."
   ]
  }
 ],
 "metadata": {
  "kernelspec": {
   "display_name": "py3.10",
   "language": "python",
   "name": "py3.10"
  },
  "language_info": {
   "codemirror_mode": {
    "name": "ipython",
    "version": 3
   },
   "file_extension": ".py",
   "mimetype": "text/x-python",
   "name": "python",
   "nbconvert_exporter": "python",
   "pygments_lexer": "ipython3",
   "version": "3.10.14"
  }
 },
 "nbformat": 4,
 "nbformat_minor": 2
}
